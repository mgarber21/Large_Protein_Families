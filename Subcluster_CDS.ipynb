{
 "cells": [
  {
   "cell_type": "code",
   "execution_count": 6,
   "id": "993af091-22c6-44b6-941d-6ed22f29dc0a",
   "metadata": {},
   "outputs": [],
   "source": [
    "import pandas as pd\n",
    "import numpy as np\n",
    "import matplotlib.pyplot as plt\n",
    "import os, sys\n",
    "import seaborn as sns\n",
    "import random\n",
    "from Bio import SeqIO"
   ]
  },
  {
   "cell_type": "markdown",
   "id": "2995fd24-ee02-42a9-be93-c760eeaa6892",
   "metadata": {},
   "source": [
    "##### Outgroups\n",
    "- outgroup 1:GCF_000423645-1-G568_RS0108480, GCF_000169415-1-SSE37_RS08100, GCF_900110775-1-BSF79_RS18365\n",
    "- outgroup 2: GCF_000421265.1-K355_RS0117460\n",
    "-outgroup 3: GCF_000423645-1-G568_RS0108480, GCF_000169415-1-SSE37_RS08100, GCF_900110775-1-BSF79_RS18365, GCF_000421265.1-K355_RS0117460"
   ]
  },
  {
   "cell_type": "markdown",
   "id": "c0eeb93c-2a4c-4461-8aad-10c1892a0e69",
   "metadata": {
    "tags": []
   },
   "source": [
    "##### Models to deal with dublications of AAA+ domain RRs\n",
    "- outgroup 1\n",
    "    - Model 6: includes ADU59_RS12685 and CEP68_RS17635\n",
    "    - Model 8:includes G568_RS0115095, BSF79_RS15930, SSE37_RS16260, RUTHE_RS05685, BG454_RS09765, K355_RS0117460\n",
    "    - Model 12: includes all AAA+ RRs\n",
    "    - Model 13: includes BG454_RS16400, ADU59_RS19520, K355_RS0119855, B152_RS0108145\n",
    "    - Model 7: excludes GerE\n",
    "    - Model 14: includes BG454_RS16400, ADU59_RS19520, K355_RS0119855, B152_RS0108145 and also includes G568_RS0115095, BSF79_RS15930, SSE37_RS16260, RUTHE_RS05685, BG454_RS09765, K355_RS0117460\n",
    "- outgroup 2\n",
    "    - Model 1: includes ADU59_RS12685 and CEP68_RS17635\n",
    "    - Model 2:includes G568_RS0115095, BSF79_RS15930, SSE37_RS16260, RUTHE_RS05685, BG454_RS09765, K355_RS0117460\n",
    "    - Model 3: includes all AAA+ RRs\n",
    "    - Model 5: includes BG454_RS16400, ADU59_RS19520, K355_RS0119855, B152_RS0108145\n",
    "- outgroup 3\n",
    "    - Model 4: includes all AAA+ RRs\n",
    "    - Model 9: excludes GerE\n",
    "- no outgroup\n",
    "    - Model 10: exlcudes outgroup (use for HyPHY MEME site selection)"
   ]
  },
  {
   "cell_type": "code",
   "execution_count": 7,
   "id": "6ff72fd7-741c-4b2b-96ef-c9b8bdf89b02",
   "metadata": {},
   "outputs": [
    {
     "data": {
      "text/plain": [
       "'/opt/jupyterhub/shared_notebooks/m-group/ALI/MG_stuff/RR_bioinformatics/TCSplayground/Alphaproteobacteria_subcluster/CDS'"
      ]
     },
     "execution_count": 7,
     "metadata": {},
     "output_type": "execute_result"
    }
   ],
   "source": [
    "Dir = os.path.join(os.getcwd(), \"Alphaproteobacteria_subcluster\", \"CDS\")\n",
    "Dir"
   ]
  },
  {
   "cell_type": "code",
   "execution_count": 8,
   "id": "56cf1d55-347e-4c02-ae24-806d6e6fdb8a",
   "metadata": {},
   "outputs": [
    {
     "data": {
      "text/plain": [
       "['GCF_000021325.1-GDIA_RS09815',\n",
       " 'GCF_000423645.1-G568_RS0108480',\n",
       " 'GCF_000169415.1-SSE37_RS08100',\n",
       " 'GCF_900110775.1-BSF79_RS18365',\n",
       " 'GCF_000017565.1-PLAV_RS12075',\n",
       " 'GCF_000017565.1-PLAV_RS12070',\n",
       " 'GCF_000017565.1-PLAV_RS11965',\n",
       " 'GCF_000017565.1-PLAV_RS11955',\n",
       " 'GCF_000017565.1-PLAV_RS10335',\n",
       " 'GCF_000017565.1-PLAV_RS05525',\n",
       " 'GCF_001687365.1-ADU59_RS05750',\n",
       " 'GCF_000385335.1-A3OQ_RS0103935',\n",
       " 'GCF_900168195.1-B5Y19_RS10715',\n",
       " 'GCF_900168195.1-B5Y19_RS10675',\n",
       " 'GCF_900168195.1-B5Y19_RS10665',\n",
       " 'GCF_000374005.1-B152_RS0109090',\n",
       " 'GCF_002208825.2-CEP68_RS27755',\n",
       " 'GCF_000423645.1-G568_RS0115095',\n",
       " 'GCF_900110775.1-BSF79_RS15930',\n",
       " 'GCF_000169415.1-SSE37_RS16260',\n",
       " 'GCF_000442315.1-RUTHE_RS05685',\n",
       " 'GCF_001870665.2-BG454_RS09765',\n",
       " 'GCF_002208825.2-CEP68_RS17635',\n",
       " 'GCF_001687365.1-ADU59_RS12685',\n",
       " 'GCF_001870665.2-BG454_RS16400',\n",
       " 'GCF_001687365.1-ADU59_RS19520',\n",
       " 'GCF_000421265.1-K355_RS0119855',\n",
       " 'GCF_000374005.1-B152_RS0108145']"
      ]
     },
     "execution_count": 8,
     "metadata": {},
     "output_type": "execute_result"
    }
   ],
   "source": [
    "model12 = []\n",
    "for seq_record in SeqIO.parse(os.path.join(Dir, \"Alphaproteobacteria_subcluster_CDS_REC_model12.fasta\"),  \"fasta\"):\n",
    "    model12.append(str(seq_record.id).replace(\"-1\", \".1\").replace(\"-2\", \".2\"))\n",
    "    \n",
    "model12\n"
   ]
  },
  {
   "cell_type": "code",
   "execution_count": 11,
   "id": "cd75bff2-908a-4934-9ad8-df04d8c47fad",
   "metadata": {},
   "outputs": [
    {
     "name": "stdout",
     "output_type": "stream",
     "text": [
      "28\n",
      "/opt/jupyterhub/shared_notebooks/m-group/ALI/MG_stuff/RR_bioinformatics/TCSplayground/Alphaproteobacteria_subcluster/CDS/Alphaproteobacteria_subcluster_AA_model12.fasta \n",
      " /opt/jupyterhub/shared_notebooks/m-group/ALI/MG_stuff/RR_bioinformatics/TCSplayground/Alphaproteobacteria_subcluster/CDS/Alphaproteobacteria_subcluster_AA_model12.afa\n",
      "outputhat23=16\n",
      "treein = 0\n",
      "compacttree = 0\n",
      "stacksize: 8192 kb\n",
      "rescale = 1\n",
      "All-to-all alignment.\n",
      "tbfast-pair (aa) Version 7.475\n",
      "alg=L, model=BLOSUM62, 2.00, -0.10, +0.10, noshift, amax=0.0\n",
      "0 thread(s)\n",
      "\n",
      "outputhat23=16\n",
      "Loading 'hat3.seed' ... \n",
      "done.\n",
      "Writing hat3 for iterative refinement\n",
      "rescale = 1\n",
      "Gap Penalty = -1.53, +0.00, +0.00\n",
      "tbutree = 1, compacttree = 0\n",
      "Constructing a UPGMA tree ... \n",
      "   20 / 28\n",
      "done.\n",
      "\n",
      "Progressive alignment ... \n",
      "STEP    13 /27 \n",
      "Reallocating..done. *alloclen = 1235\n",
      "STEP    27 /27 \n",
      "done.\n",
      "tbfast (aa) Version 7.475\n",
      "alg=A, model=BLOSUM62, 1.53, -0.00, -0.00, noshift, amax=0.0\n",
      "1 thread(s)\n",
      "\n",
      "minimumweight = 0.000010\n",
      "autosubalignment = 0.000000\n",
      "nthread = 0\n",
      "randomseed = 0\n",
      "blosum 62 / kimura 200\n",
      "poffset = 0\n",
      "niter = 16\n",
      "sueff_global = 0.100000\n",
      "nadd = 16\n",
      "Loading 'hat3' ... done.\n",
      "rescale = 1\n",
      "\n",
      "   20 / 28\n",
      "Segment   1/  1    1- 148\n",
      "STEP 002-001-0  identical.    identical.    identical.    identical.   \n",
      "Converged.\n",
      "\n",
      "done\n",
      "dvtditr (aa) Version 7.475\n",
      "alg=A, model=BLOSUM62, 1.53, -0.00, -0.00, noshift, amax=0.0\n",
      "0 thread(s)\n",
      "\n",
      "\n",
      "Strategy:\n",
      " L-INS-i (Probably most accurate, very slow)\n",
      " Iterative refinement method (<16) with LOCAL pairwise alignment information\n",
      "\n",
      "If unsure which option to use, try 'mafft --auto input > output'.\n",
      "For more information, see 'mafft --help', 'mafft --man' and the mafft page.\n",
      "\n",
      "The default gap scoring scheme has been changed in version 7.110 (2013 Oct).\n",
      "It tends to insert more gaps into gap-rich regions than previous versions.\n",
      "To disable this change, add the --leavegappyregion option.\n",
      "\n"
     ]
    }
   ],
   "source": [
    "model = 12\n",
    "model12 = []\n",
    "records = []\n",
    "for seq_record in SeqIO.parse(os.path.join(Dir, f\"Alphaproteobacteria_subcluster_CDS_REC_model{model}.fasta\"),  \"fasta\"):\n",
    "    \n",
    "    \n",
    "    seq_record.seq = seq_record.seq.translate()\n",
    "    records.append(seq_record)\n",
    "\n",
    "\n",
    "print(len(records))\n",
    "handle = open(os.path.join(Dir, f\"Alphaproteobacteria_subcluster_AA_model{model}.fasta\"),\"w\")\n",
    "SeqIO.write(records,handle,\"fasta\")\n",
    "\n",
    "handle.close()\n",
    "\n",
    "infile, alignfile = [\n",
    "        os.path.join(Dir, f\"Alphaproteobacteria_subcluster_AA_model{model}.fasta\"), \n",
    "        os.path.join(Dir, f\"Alphaproteobacteria_subcluster_AA_model{model}.afa\")]\n",
    "print( infile, \"\\n\", alignfile)\n",
    "    #alignent\n",
    "!mafft --localpair --maxiterate 1000 {infile}>{alignfile}\n",
    "\n",
    "records = []\n",
    "for seq_record in SeqIO.parse(os.path.join(Dir,f\"Alphaproteobacteria_subcluster_AA_model{model}.afa\"), \"fasta\"):\n",
    "   \n",
    "    records.append(seq_record)\n",
    "\n",
    "handle = open(os.path.join(Dir, f\"Alphaproteobacteria_subcluster_AA_model{model}.cl\"),\"w\")\n",
    "SeqIO.write(records,handle,\"clustal\")\n",
    "\n",
    "handle.close()\n",
    "    # model12.append(str(seq_record.id).replace(\"-1\", \".1\").replace(\"-2\", \".2\"))\n",
    "    \n"
   ]
  },
  {
   "cell_type": "code",
   "execution_count": 12,
   "id": "b6980814-9a2b-44e9-8d6f-2101ba1b7bb8",
   "metadata": {},
   "outputs": [],
   "source": [
    "records = []\n",
    "for seq_record in SeqIO.parse(os.path.join(Dir, \"Alphaproteobacteria_subcluster_CDS_model4.fasta\"), \"fasta\"):\n",
    "    seq_record.seq = seq_record.seq[0:330]\n",
    "    if str(seq_record.id)  not in [\n",
    "    #     \"GCF_001687365-1-ADU59_RS12685\", # related to PP_1066\n",
    "    #     \"GCF_002208825-2-CEP68_RS17635\", # related to PP_1066\n",
    "    #     \"GCF_001870665-2-BG454_RS16400\", #related to PP_0263\n",
    "    #     \"GCF_001687365-1-ADU59_RS19520\",  #related to PP_0263\n",
    "    #     \"GCF_000421265-1-K355_RS0119855\", #related to PP_0263\n",
    "    #     \"GCF_000374005-1-B152_RS0108145\", #related to PP_0263\n",
    "    #     \"GCF_000423645-1-G568_RS0115095\", #related to PP_1401\n",
    "    #     \"GCF_900110775-1-BSF79_RS15930\", #related to PP_1401\n",
    "    #     \"GCF_000169415-1-SSE37_RS16260\", #related to PP_1401\n",
    "    #     \"GCF_000442315-1-RUTHE_RS05685\", #related to PP_1401\n",
    "    #     \"GCF_001870665-2-BG454_RS09765\", #related to PP_1401\n",
    "        \"GCF_000421265.1-K355_RS0117460\", #possible outgroup (2)\n",
    "        \"GCF_000423645-1-G568_RS0108480\", #possible outgroup (1)\n",
    "        \"GCF_000169415-1-SSE37_RS08100\", #possible outgroup (1)\n",
    "        \"GCF_900110775-1-BSF79_RS18365\", #possible outgroup (1)\n",
    "    ]: \n",
    "        records.append(seq_record)\n",
    "\n",
    "\n",
    "handle = open(os.path.join(Dir,\"Alphaproteobacteria_subcluster_CDS_REC_model10.fasta\"),\"w\")\n",
    "SeqIO.write(records,handle,\"fasta\")\n",
    "handle.close()"
   ]
  },
  {
   "cell_type": "code",
   "execution_count": 13,
   "id": "7fcc71df-a77c-4fd5-9d3e-f3af0bd9ccb8",
   "metadata": {},
   "outputs": [
    {
     "name": "stdout",
     "output_type": "stream",
     "text": [
      "head: cannot open 'Alphaproteobacteria_subcluster_CDS_REC_model10.fasta' for reading: No such file or directory\n"
     ]
    }
   ],
   "source": [
    "!head Alphaproteobacteria_subcluster_CDS_REC_model10.fasta"
   ]
  },
  {
   "cell_type": "code",
   "execution_count": 16,
   "id": "7e156e86-3666-4ad1-bab3-fd537c4a38b8",
   "metadata": {
    "scrolled": true,
    "tags": []
   },
   "outputs": [
    {
     "name": "stdout",
     "output_type": "stream",
     "text": [
      "/opt/jupyterhub/shared_notebooks/m-group/ALI/MG_stuff/RR_bioinformatics/TCSplayground/Alphaproteobacteria_subcluster/CDS/Alphaproteobacteria_subcluster_CDS_REC_model12.fasta \n",
      " /opt/jupyterhub/shared_notebooks/m-group/ALI/MG_stuff/RR_bioinformatics/TCSplayground/Alphaproteobacteria_subcluster/CDS/Alphaproteobacteria_subcluster_CDS_REC_model12.afa\n",
      "/bin/bash: line 1: mafft-linsi: command not found\n",
      "IQ-TREE multicore version 1.6.12 for Linux 64-bit built Aug 15 2019\n",
      "Developed by Bui Quang Minh, Nguyen Lam Tung, Olga Chernomor,\n",
      "Heiko Schmidt, Dominik Schrempf, Michael Woodhams.\n",
      "\n",
      "Host:    jupyter (AVX, FMA3, 503 GB RAM)\n",
      "Command: /opt/iqtree/iqtree-1.6.12-Linux/bin/iqtree -s /opt/jupyterhub/shared_notebooks/m-group/ALI/MG_stuff/RR_bioinformatics/TCSplayground/Alphaproteobacteria_subcluster/CDS/Alphaproteobacteria_subcluster_CDS_REC_model12.afa -m TVM+F+I+G4 -o GCF_000169415-1-SSE37_RS08100 -redo -bb 1000\n",
      "Seed:    471513 (Using SPRNG - Scalable Parallel Random Number Generator)\n",
      "Time:    Thu Dec  1 17:33:57 2022\n",
      "Kernel:  AVX+FMA - 1 threads (64 CPU cores detected)\n",
      "\n",
      "HINT: Use -nt option to specify number of threads because your CPU has 64 cores!\n",
      "HINT: -nt AUTO will automatically determine the best number of threads to use.\n",
      "\n",
      "Reading alignment file /opt/jupyterhub/shared_notebooks/m-group/ALI/MG_stuff/RR_bioinformatics/TCSplayground/Alphaproteobacteria_subcluster/CDS/Alphaproteobacteria_subcluster_CDS_REC_model12.afa ... ERROR: Cannot read file /opt/jupyterhub/shared_notebooks/m-group/ALI/MG_stuff/RR_bioinformatics/TCSplayground/Alphaproteobacteria_subcluster/CDS/Alphaproteobacteria_subcluster_CDS_REC_model12.afa\n"
     ]
    }
   ],
   "source": [
    "for model in [\n",
    "    # 10,\n",
    "    # 9, \n",
    "    # 7,\n",
    "    # 4,\n",
    "    # 1,2,3,5,\n",
    "    # 14,\n",
    "    # 6,8,\n",
    "    12,\n",
    "    # 13\n",
    "             ]:\n",
    "     #file assignment\n",
    "    infile, alignfile = [\n",
    "        os.path.join(Dir, f\"Alphaproteobacteria_subcluster_CDS_REC_model{model}.fasta\"), \n",
    "        os.path.join(Dir, f\"Alphaproteobacteria_subcluster_CDS_REC_model{model}.afa\")]\n",
    "    print( infile, \"\\n\", alignfile)\n",
    "        #alignent\n",
    "    !mafft-linsi {infile}>{alignfile}\n",
    "     #iqtree\n",
    "    !/opt/iqtree/iqtree-1.6.12-Linux/bin/iqtree -s {alignfile} -m TVM+F+I+G4 -o GCF_000169415-1-SSE37_RS08100 -redo -bb 1000\n",
    "    \n",
    "     #file cleanup\n",
    "    iqfiles = os.path.join(Dir, f\"Alphaproteobacteria_subcluster_CDS_REC_model{model}.afa.*\")\n",
    "    directory = os.path.join(Dir, \"iqtree_Results\", f\"Model_{model}\")\n",
    "    if not os.path.isdir(directory):\n",
    "        print(directory)\n",
    "\n",
    "        os.mkdir(directory)\n",
    "    !mv {iqfiles} {directory}\n"
   ]
  },
  {
   "cell_type": "code",
   "execution_count": 19,
   "id": "b7682975-51a6-42f3-a13d-2dd018b4367e",
   "metadata": {},
   "outputs": [
    {
     "name": "stdout",
     "output_type": "stream",
     "text": [
      "mv: cannot stat 'Alphaproteobacteria_subcluster_CDS_REC_model12.afa.*': No such file or directory\n"
     ]
    }
   ],
   "source": [
    "#file cleanup\n",
    "for model in [\n",
    "    # 9, 7,\n",
    "    # 4\n",
    "    # 1,2,3,5,\n",
    "    # 14,\n",
    "    # 6,8,\n",
    "    12,\n",
    "    # 13\n",
    "             ]:\n",
    "    file = os.path.join(f\"Alphaproteobacteria_subcluster_CDS_REC_model{model}.afa.*\")\n",
    "    directory = os.path.join(Dir, \"iqtree_Results\", f\"Model_{model}\")\n",
    "    if not os.path.isdir(directory):\n",
    "        print(directory)\n",
    "\n",
    "        os.mkdir(directory)\n",
    "    !mv {file} {directory}\n",
    "\n"
   ]
  },
  {
   "cell_type": "markdown",
   "id": "c5f56122-86f5-4185-aaf2-79f4fe7f0440",
   "metadata": {},
   "source": [
    "#### Proceeding with model 12\n",
    "- model 12 has bootstrap value of 100 at partition of interest\n",
    "- Model 12 agrees with model 7 with regard to partition of AAA+ paralogs"
   ]
  },
  {
   "cell_type": "code",
   "execution_count": null,
   "id": "9738a7a4-0798-4cee-8a52-f8e918c21a19",
   "metadata": {},
   "outputs": [],
   "source": []
  }
 ],
 "metadata": {
  "kernelspec": {
   "display_name": "Biopython 3.8",
   "language": "python",
   "name": "biopython_3.8"
  },
  "language_info": {
   "codemirror_mode": {
    "name": "ipython",
    "version": 3
   },
   "file_extension": ".py",
   "mimetype": "text/x-python",
   "name": "python",
   "nbconvert_exporter": "python",
   "pygments_lexer": "ipython3",
   "version": "3.8.6"
  }
 },
 "nbformat": 4,
 "nbformat_minor": 5
}
