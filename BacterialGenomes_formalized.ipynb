{
 "cells": [
  {
   "cell_type": "code",
   "execution_count": null,
   "id": "5830fad2-bb38-43f8-a630-f13486befe96",
   "metadata": {},
   "outputs": [],
   "source": [
    "import pandas as pd\n",
    "import numpy as np\n",
    "import matplotlib.pyplot as plt\n",
    "import os, sys\n",
    "import seaborn as sns\n",
    "import http.client\n",
    "\n",
    "import json"
   ]
  },
  {
   "cell_type": "markdown",
   "id": "f513780d-8849-478a-a7e6-6b4916749d9d",
   "metadata": {},
   "source": [
    "# Generate database of bacterial genomes in MISTDB \n",
    "- Use the Microbial signal transduction data base (MISTDB) API to generate a csv with bacterial genomes availbale in the database\n",
    "- output csv will be stored as \"BacterialGenomesDB.csv\"\n",
    "- code is currently silenced as \"Raw\", but can be re-activated as \"Code\""
   ]
  },
  {
   "cell_type": "raw",
   "id": "2cb83c69-c5cd-4225-aecd-79bee5753b80",
   "metadata": {},
   "source": [
    "#Temporarily inactivated\n",
    "    # This cell is used to find and curate all genomes in MISTDB\n",
    "conn = http.client.HTTPSConnection(\"api.mistdb.caltech.edu\")\n",
    "genomeDB = list()\n",
    "\n",
    "for i in range(1, 101):\n",
    "    conn.request(\"GET\", \"/v1/genomes?page={}&per_page=100\".format(i))\n",
    "    res = conn.getresponse()\n",
    "    data = res.read()\n",
    "    datastring= data.decode(\"utf-8\")\n",
    "    res = json.loads(datastring)\n",
    "    genomeDB.extend(res)"
   ]
  },
  {
   "cell_type": "raw",
   "id": "975d773c-5498-4453-90f6-af731fc0c8ae",
   "metadata": {},
   "source": [
    "df = pd.DataFrame()\n",
    "for genome in genomeDB:\n",
    "    df_temp = pd.DataFrame.from_dict(genome, orient='index').T\n",
    "    df = pd.concat([df, df_temp])\n",
    "    \n",
    "df.drop_duplicates(subset = [\"species\"], inplace = True)"
   ]
  },
  {
   "cell_type": "raw",
   "id": "3e8924d4-1c69-473c-aad7-4b6725b370f2",
   "metadata": {},
   "source": [
    "Bacteria = df[df.superkingdom == \"Bacteria\"]\n",
    "Bacteria.to_csv(\"BacterialGenomesDB.csv\")\n",
    "Bacteria = pd.read_csv(\"BacterialGenomesDB.csv\", index_col = None)"
   ]
  },
  {
   "cell_type": "raw",
   "id": "2d7072b0-c939-4450-9e7a-09d3cbcc37a2",
   "metadata": {},
   "source": [
    "Bacteria.head()"
   ]
  }
 ],
 "metadata": {
  "kernelspec": {
   "display_name": "Biopython 3.8",
   "language": "python",
   "name": "biopython_3.8"
  },
  "language_info": {
   "codemirror_mode": {
    "name": "ipython",
    "version": 3
   },
   "file_extension": ".py",
   "mimetype": "text/x-python",
   "name": "python",
   "nbconvert_exporter": "python",
   "pygments_lexer": "ipython3",
   "version": "3.8.6"
  }
 },
 "nbformat": 4,
 "nbformat_minor": 5
}
