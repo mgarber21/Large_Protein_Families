{
 "cells": [
  {
   "cell_type": "code",
   "execution_count": null,
   "metadata": {},
   "outputs": [],
   "source": [
    "import pandas as pd\n",
    "import numpy as np\n",
    "import matplotlib.pyplot as plt\n",
    "import os, sys\n",
    "import seaborn as sns\n",
    "import http.client\n",
    "\n",
    "import json"
   ]
  },
  {
   "cell_type": "code",
   "execution_count": null,
   "metadata": {},
   "outputs": [],
   "source": [
    "import shutil\n",
    "\n"
   ]
  },
  {
   "cell_type": "code",
   "execution_count": null,
   "metadata": {
    "scrolled": true
   },
   "outputs": [],
   "source": [
    "SampledTCSpath = os.path.join(os.getcwd(), \"SampledTCS\") #TCS identified from sampled geneomes\n",
    "SampledGenomespath = os.path.join(os.getcwd(), \"SampledGenomes\") #list of sampled genomes from a taxanomic level\n",
    "Genomespath = os.path.join(os.getcwd(), \"GenomeDBs\") #list of genomes for a taxanomic level\n",
    "Source_path = os.path.join(os.getcwd(), \"Source_Files\") #.hmm files"
   ]
  },
  {
   "cell_type": "markdown",
   "metadata": {
    "tags": []
   },
   "source": [
    "#### Load file with all genomes available in MISTDB"
   ]
  },
  {
   "cell_type": "code",
   "execution_count": null,
   "metadata": {},
   "outputs": [],
   "source": [
    "Bacteria = pd.read_csv(os.path.join(Genomespath,\"BacterialGenomesDB.csv\"),\n",
    "                       index_col = None).drop(\"Unnamed: 0\", axis=1)"
   ]
  },
  {
   "cell_type": "code",
   "execution_count": null,
   "metadata": {},
   "outputs": [],
   "source": [
    "Bacteria.head()"
   ]
  },
  {
   "cell_type": "markdown",
   "metadata": {},
   "source": [
    "## A quick look inside the database\n",
    "- **Goal**: generate new dataframes to pull out species based on taxanomic level"
   ]
  },
  {
   "cell_type": "markdown",
   "metadata": {},
   "source": [
    "### Which Phyla  are in the bacterial kingdom?"
   ]
  },
  {
   "cell_type": "code",
   "execution_count": null,
   "metadata": {
    "scrolled": true
   },
   "outputs": [],
   "source": [
    "Bacteria.phylum.value_counts()"
   ]
  },
  {
   "cell_type": "markdown",
   "metadata": {},
   "source": [
    "### Which classes are in the phylum proteobacteria?"
   ]
  },
  {
   "cell_type": "code",
   "execution_count": null,
   "metadata": {
    "scrolled": true
   },
   "outputs": [],
   "source": [
    "\n",
    "Proteobacteria = Bacteria[Bacteria.phylum ==  \"Proteobacteria\"]\n",
    "Proteobacteria.to_csv(os.path.join(Genomespath, \"ProteobacteriaGenomesDB.csv\"),index= False)\n",
    "Proteobacteria[\"class\"].value_counts()\n"
   ]
  },
  {
   "cell_type": "markdown",
   "metadata": {},
   "source": [
    "### Which orders  are in the class gammaproteobacteria?"
   ]
  },
  {
   "cell_type": "code",
   "execution_count": null,
   "metadata": {
    "scrolled": true
   },
   "outputs": [],
   "source": [
    "Gammaproteobacteria = Bacteria[Bacteria[\"class\"] ==  \"Gammaproteobacteria\"]\n",
    "Gammaproteobacteria.to_csv(os.path.join(Genomespath, \"GammaproteobacteriaGenomesDB.csv\"),index= False)\n",
    "Gammaproteobacteria[\"order\"].value_counts()\n"
   ]
  },
  {
   "cell_type": "markdown",
   "metadata": {},
   "source": [
    "### Which species are in the genus pseudmonas?"
   ]
  },
  {
   "cell_type": "code",
   "execution_count": null,
   "metadata": {
    "scrolled": true
   },
   "outputs": [],
   "source": [
    "Pseudomonas =  Proteobacteria[Proteobacteria.genus ==  \"Pseudomonas\"]\n",
    "Pseudomonas.to_csv(os.path.join(Genomespath, \"PseudomonasGenomesDB.csv\"),index= False)\n",
    "Pseudomonas[\"name\"].value_counts()"
   ]
  },
  {
   "cell_type": "code",
   "execution_count": null,
   "metadata": {
    "scrolled": true
   },
   "outputs": [],
   "source": [
    "Pseudomonas.head()"
   ]
  },
  {
   "cell_type": "code",
   "execution_count": null,
   "metadata": {},
   "outputs": [],
   "source": [
    "PP = Pseudomonas[Pseudomonas[\"species\"] == \"Pseudomonas putida\"]"
   ]
  },
  {
   "cell_type": "markdown",
   "metadata": {},
   "source": [
    "# Interacting with the Microbial signal transduction database (MISTDB) API\n",
    "- The following function can be applied to generate tables of response regulators based on taxanomic level"
   ]
  },
  {
   "cell_type": "code",
   "execution_count": null,
   "metadata": {},
   "outputs": [],
   "source": [
    "class get_MISTDB():\n",
    "    \n",
    "     # Class of functions built interface with Microbial Signal Transduction Database\n",
    "    \n",
    "    def __init__(self, GenomeAccession):\n",
    "        self.GenomeAccession= GenomeAccession\n",
    "        self.conn = http.client.HTTPSConnection(\"api.mistdb.caltech.edu\") #connect to MIST API\n",
    "        \n",
    "    def getGenomeAPI(self, APIinput = \"/genes\"):        \n",
    "         # request genome and genes from MIST API\n",
    "        self.conn.request(\"GET\", \"/v1/genomes/{}{}\".format(self.GenomeAccession,APIinput))\n",
    "        \n",
    "         # read API connection and return dictionary of data\n",
    "        res = self.conn.getresponse()\n",
    "        data = res.read()\n",
    "        datastring= data.decode(\"utf-8\")\n",
    "        res = json.loads(datastring)\n",
    "        return res\n",
    "    \n",
    "    def get_GeneID(self, page = 1, idx = 0, dict_key = \"id\"):\n",
    "        APIinput = \"/genes?page={}&per_page=100\".format(page)\n",
    "        \n",
    "        if dict_key:\n",
    "            APIpage = self.getGenomeAPI(APIinput = APIinput)\n",
    "            if APIpage[idx]:\n",
    "                geneID = APIpage[idx][dict_key]               \n",
    "                return geneID\n",
    "            else:\n",
    "                pass\n",
    "        else:\n",
    "            APIpage = self.getGenomeAPI(APIinput = APIinput)\n",
    "            if APIpage:\n",
    "                geneID = self.getGenomeAPI(APIinput = APIinput)[idx]              \n",
    "                return geneID\n",
    "            else:\n",
    "                pass\n",
    "            \n",
    "    \n",
    "    def get_GenePage(self, geneID_N):        \n",
    "         # get the ID from the first item on the first page\n",
    "        geneID_0 = self.get_GeneID()\n",
    "        \n",
    "         # calculate the page number of the Nth gene ID\n",
    "        page = int(((geneID_N - geneID_0))/100) + 1\n",
    "        \n",
    "         # get the ID from the first item on the Nth page \n",
    "        geneID_N_0 = self.get_GeneID(page = page)\n",
    "        \n",
    "         # calculate the index of the Nth gene on the Nth page\n",
    "        geneIDX = geneID_N - geneID_N_0\n",
    "        \n",
    "         # return the dictionary with protein information for Nth ID\n",
    "        return self.get_GeneID(page = page, idx = geneIDX, dict_key = None)   \n",
    "    \n",
    "    def make_TCSdf(self):\n",
    "        \n",
    "         # initialize final dataframe\n",
    "        df = pd.DataFrame()\n",
    "        \n",
    "         # initialize page number and page lengths\n",
    "            # run while loop to find end of pages\n",
    "        pageNum, pageLen = 1, 100\n",
    "        \n",
    "        while pageLen == 100:\n",
    "\n",
    "             # pull 100 signal genes per MISTDB page\n",
    "                # after the page length no longer equals 100, the code will stop\n",
    "            signalGenes = self.getGenomeAPI(APIinput = \"/signal-genes?page={}&per_page=100\".format(pageNum))\n",
    "            pageLen = len(signalGenes)\n",
    "            pageNum += 1\n",
    "\n",
    "            for signalGene_meta in signalGenes: #check if singal-gene is TCS \n",
    "                domains = signalGene_meta[\"counts\"].keys()\n",
    "                signalGeneDict = dict()\n",
    "                \n",
    "                if \"RR\" in domains and \"HK_CA\" in domains:\n",
    "                    # if HKs have RRs they will be classified as hybrid histidine kinase (hybrid_HK)\n",
    "                    signalGeneDict[\"TCStype\"] = \"Hybrid_HK\"\n",
    "                \n",
    "                elif \"RR\" in domains and \"Hpt\" in domains:\n",
    "                    # if HKs have RRs they will be classified as hybrid histidine kinase (hybrid_HK)\n",
    "                    signalGeneDict[\"TCStype\"] = \"Hybrid_HK_Hpt\"\n",
    "                elif \"RR\" in domains and \"HisKA\" in domains:\n",
    "                    # if HKs have RRs they will be classified as hybrid histidine kinase (hybrid_HK)\n",
    "                    signalGeneDict[\"TCStype\"] = \"Hybrid_HK_HisKA\"\n",
    "                    \n",
    "                elif \"RR\" in domains:# and \"Hpt\"  not in domains and \"HK_CA\" not in domains:\n",
    "                    # if only RR domain they will be classifies as response regulator (RR)\n",
    "                    signalGeneDict[\"TCStype\"] = \"RR\"\n",
    "                    \n",
    "                \n",
    "                elif \"HK_CA\" in domains:\n",
    "                    # if only HK-CA domain they will be classifies as histidine kinase (HK)\n",
    "                    signalGeneDict[\"TCStype\"] = \"HK\"\n",
    "                    \n",
    "                else:\n",
    "                    continue\n",
    "                \n",
    "                signalGeneDict[\"gene_id\"] = signalGene_meta[\"gene_id\"]\n",
    "                signalGeneDict[\"domain_counts\"] = signalGene_meta[\"counts\"]\n",
    "\n",
    "                genepage = self.get_GenePage(signalGene_meta[\"gene_id\"])\n",
    "                signalGeneDict[\"stable_id\"], signalGeneDict[\"aseq_id\"] = genepage[\"stable_id\"], genepage[\"aseq_id\"]\n",
    "                \n",
    "                \n",
    "                \n",
    "                df_temp = pd.DataFrame.from_dict(signalGeneDict, orient='index').T\n",
    "                df = pd.concat([df_temp, df])\n",
    "\n",
    "        return df.reset_index().drop(\"index\", axis=1)\n",
    "                \n",
    "\n",
    "# test function with a GCF id from the Bacteria dataframe\n",
    "TCS = get_MISTDB(\"GCF_000006765.1\").make_TCSdf()\n",
    "TCS.head()"
   ]
  },
  {
   "cell_type": "code",
   "execution_count": null,
   "metadata": {},
   "outputs": [],
   "source": [
    "def makeSeqDF(TCS):\n",
    "\n",
    "    dfSeq = pd.DataFrame()\n",
    "\n",
    "    conn = http.client.HTTPSConnection(\"api.mistdb.caltech.edu\")\n",
    "\n",
    "    for gene_id, aseq_id, TCStype in zip(TCS.gene_id, TCS.aseq_id, TCS.TCStype):\n",
    "        conn.request(\"GET\", \"/v1/aseqs/{}\".format(aseq_id))\n",
    "        res = conn.getresponse()\n",
    "        data = res.read()\n",
    "        datastring= data.decode(\"utf-8\")\n",
    "        res = json.loads(datastring)\n",
    "        seqDict = dict()\n",
    "        seqDict[\"gene_id\"] = gene_id\n",
    "        for pfam in res[\"pfam31\"]:\n",
    "            if TCStype == \"RR\":\n",
    "                if pfam[\"name\"] == \"Response_reg\":\n",
    "                    seqDict[\"env_from\"], seqDict[\"env_to\"] = pfam[\"env_from\"], pfam[\"env_to\"]\n",
    "                else:\n",
    "                    continue\n",
    "\n",
    "            elif TCStype == \"HK\" or TCStype == \"Hybrid_HK\":\n",
    "                if pfam[\"name\"] == \"HATPase_c\":\n",
    "                    seqDict[\"env_to\"] = pfam[\"env_to\"]\n",
    "                elif \"HisKA\" in pfam[\"name\"]:\n",
    "                    seqDict[\"env_from\"] = pfam[\"env_from\"]\n",
    "                else:\n",
    "                    continue\n",
    "\n",
    "            else:\n",
    "                continue\n",
    "        seqDict[\"sequence\"] = res[\"sequence\"]\n",
    "        df_temp = pd.DataFrame.from_dict(seqDict, orient='index').T\n",
    "        dfSeq = pd.concat([df_temp, dfSeq], sort =  False)\n",
    "    \n",
    "    dfSeq.dropna(subset = [\"env_to\", \"env_from\"], inplace = True)\n",
    "    dfSeq[\"domain_seq\"] = dfSeq.apply(lambda row: row.sequence[row.env_from:row.env_to], axis =1)\n",
    "    \n",
    "    \n",
    "    df = pd.merge(dfSeq, TCS, on  = \"gene_id\", how = \"left\")    \n",
    "    \n",
    "    return df\n",
    "    "
   ]
  },
  {
   "cell_type": "code",
   "execution_count": null,
   "metadata": {},
   "outputs": [],
   "source": [
    "def TCSdomains(DB):\n",
    "    df = pd.DataFrame()\n",
    "    for version in DB.version:\n",
    "        dfTCS = get_MISTDB(version).make_TCSdf()\n",
    "        dfTCS[\"version\"] = version\n",
    "        if dfTCS.empty:\n",
    "            continue\n",
    "        else:\n",
    "            df_temp = makeSeqDF(TCS = dfTCS)\n",
    "            df = pd.concat([df_temp, df], sort = True)\n",
    "    print(df.TCStype.value_counts())\n",
    "    print(df.version.value_counts())\n",
    "    return df\n"
   ]
  },
  {
   "cell_type": "markdown",
   "metadata": {},
   "source": [
    "### Sampling a subset of the species based on taxanomic level\n",
    " - To deal with bias driven by genome availability for species of various taxanomics levels (e.g gammaproteobacteria more represented than any other class in the proteobacteria phylum) we have taken a subset of the data by randomly sampling species based on taxonomic level via the function below\n",
    " - We are not considering genomes with assembly level \"contig\" "
   ]
  },
  {
   "cell_type": "code",
   "execution_count": null,
   "metadata": {},
   "outputs": [],
   "source": [
    "def randomSubset(df = Bacteria, groupby = \"phylum\", frac = 0.1, second_frac=None, add_PP = True):\n",
    "    # pull a random subset of species from indicated taxanomic level\n",
    "    sorterDict = {\"phylum\":\"class\",\"class\":\"order\", \"order\":\"genus\", \"genus\":\"species\"} \n",
    "    df.dropna(subset = [groupby], axis=0, inplace=True)\n",
    "    df = df[df[\"assembly_level\"]!=\"contig\"]\n",
    "    randomSubset = pd.DataFrame()\n",
    "\n",
    "    randomSubset = df.groupby(groupby).sample(frac=frac).reset_index()\n",
    "    excluded = [group for group in df[groupby].unique() if group not in randomSubset[groupby].unique()]\n",
    "    if excluded:\n",
    "        if second_frac:\n",
    "            randomSubset_ex = df[df[groupby].isin(excluded)].groupby(groupby).sample(frac=second_frac).reset_index()\n",
    "            randomSubset = pd.concat([randomSubset,randomSubset_ex])\n",
    "        randomSubset_ex = df[df[groupby].isin(excluded)].groupby(groupby).sample(n=1).reset_index()\n",
    "        randomSubset = pd.concat([randomSubset,randomSubset_ex])\n",
    "\n",
    "    randomSubset.drop_duplicates(subset=  sorterDict[groupby], inplace = True)\n",
    "    if add_PP:\n",
    "        randomSubset = pd.concat([randomSubset,PP], sort =  True)\n",
    "    randomSubset.drop_duplicates(subset = \"version\", inplace = True)\n",
    "    randomSubset.sort_values(by = [groupby, sorterDict[groupby]], inplace=True)\n",
    "    \n",
    "    return randomSubset\n",
    "randomSubset(df = Bacteria, groupby = \"phylum\", frac=0.1, second_frac = 0.5).value_counts(\"phylum\")"
   ]
  },
  {
   "cell_type": "code",
   "execution_count": 137,
   "metadata": {},
   "outputs": [],
   "source": [
    "iteration = 4"
   ]
  },
  {
   "cell_type": "markdown",
   "metadata": {},
   "source": [
    "#### Pseudomonas"
   ]
  },
  {
   "cell_type": "code",
   "execution_count": 138,
   "metadata": {},
   "outputs": [
    {
     "name": "stdout",
     "output_type": "stream",
     "text": [
      "RR           2859\n",
      "HK           1340\n",
      "Hybrid_HK     796\n",
      "Name: TCStype, dtype: int64\n",
      "GCF_000237065.1    156\n",
      "GCF_000397205.1    153\n",
      "GCF_900108595.1    144\n",
      "GCF_900111835.1    142\n",
      "GCF_001654435.1    136\n",
      "GCF_001913135.1    130\n",
      "GCF_000007565.2    129\n",
      "GCF_002091755.1    129\n",
      "GCF_000012245.1    128\n",
      "GCF_000007805.1    124\n",
      "GCF_000826105.1    123\n",
      "GCF_000006765.1    122\n",
      "GCF_002091635.1    120\n",
      "GCF_000213805.1    118\n",
      "GCF_000759445.1    118\n",
      "GCF_900141925.1    116\n",
      "GCF_900100495.1    112\n",
      "GCF_000425625.1    110\n",
      "GCF_000498575.2    110\n",
      "GCF_000412695.1    109\n",
      "GCF_000761155.1    108\n",
      "GCF_900106975.1    107\n",
      "GCF_001534745.1    102\n",
      "GCF_000016565.1    101\n",
      "GCF_900115555.1    100\n",
      "GCF_000219605.1     99\n",
      "GCF_000818015.1     98\n",
      "GCF_900103845.1     98\n",
      "GCF_900116605.1     89\n",
      "GCF_001597285.1     89\n",
      "GCF_900105255.1     86\n",
      "GCF_000756775.1     84\n",
      "GCF_900105355.1     84\n",
      "GCF_000410875.1     82\n",
      "GCF_002197985.1     82\n",
      "GCF_900104805.1     82\n",
      "GCF_900115715.1     82\n",
      "GCF_900114765.1     81\n",
      "GCF_900113745.1     80\n",
      "GCF_900109735.1     77\n",
      "GCF_900104945.1     77\n",
      "GCF_900105655.1     69\n",
      "GCF_000364625.1     66\n",
      "GCF_000421765.1     65\n",
      "GCF_000806415.1     61\n",
      "GCF_900115905.1     60\n",
      "GCF_900105005.1     59\n",
      "GCF_900105885.1     57\n",
      "GCF_900114825.1     53\n",
      "GCF_000939975.1     51\n",
      "GCF_900105995.1     37\n",
      "Name: version, dtype: int64\n"
     ]
    }
   ],
   "source": [
    "DB = Pseudomonas\n",
    "DBname = \"Pseudomonas\"\n",
    "\n",
    "df = TCSdomains(DB = DB)\n",
    "\n",
    "df.to_csv(os.path.join(SampledTCSpath, f\"TCSPlaygound_{DBname}DB_{iteration}.csv\"), index = False)\n",
    "DB.to_csv(os.path.join(SampledGenomespath, f\"Sampled{DBname}DB_{iteration}.csv\"), index = False)"
   ]
  },
  {
   "cell_type": "markdown",
   "metadata": {},
   "source": [
    "#### Proteobacteria"
   ]
  },
  {
   "cell_type": "code",
   "execution_count": 158,
   "metadata": {
    "scrolled": true
   },
   "outputs": [
    {
     "data": {
      "text/plain": [
       "Gammaproteobacteria      8\n",
       "Alphaproteobacteria      4\n",
       "Deltaproteobacteria      4\n",
       "Betaproteobacteria       3\n",
       "Acidithiobacillia        1\n",
       "Epsilonproteobacteria    1\n",
       "Hydrogenophilalia        1\n",
       "Oligoflexia              1\n",
       "Zetaproteobacteria       1\n",
       "Name: class, dtype: int64"
      ]
     },
     "execution_count": 158,
     "metadata": {},
     "output_type": "execute_result"
    }
   ],
   "source": [
    "ProteobacteriaSubset = Proteobacteria.drop_duplicates(subset = [\"genus\"])\n",
    "randomSubsetClass = randomSubset(df = ProteobacteriaSubset, groupby = \"class\", frac = 0.05)\n",
    "randomSubsetClass[\"class\"].value_counts()"
   ]
  },
  {
   "cell_type": "code",
   "execution_count": 47,
   "metadata": {
    "scrolled": true
   },
   "outputs": [
    {
     "name": "stdout",
     "output_type": "stream",
     "text": [
      "RR           968\n",
      "HK           418\n",
      "Hybrid_HK    284\n",
      "Name: TCStype, dtype: int64\n",
      "GCF_001483865.1    178\n",
      "GCF_001184205.1    164\n",
      "GCF_900099695.1    145\n",
      "GCF_000007565.2    129\n",
      "GCF_000828835.1    125\n",
      "GCF_900104445.1    117\n",
      "GCF_001010405.1     99\n",
      "GCF_000423825.1     74\n",
      "GCF_000210915.2     65\n",
      "GCF_000153765.1     63\n",
      "GCF_001975225.1     59\n",
      "GCF_000154705.2     57\n",
      "GCF_000710775.1     55\n",
      "GCF_000152725.1     46\n",
      "GCF_000008465.1     46\n",
      "GCF_001661675.2     45\n",
      "GCF_900112605.1     44\n",
      "GCF_000425565.1     40\n",
      "GCF_001697225.1     27\n",
      "GCF_000186245.1     26\n",
      "GCF_000510805.1     18\n",
      "GCF_000600005.1     16\n",
      "GCF_002079945.1     16\n",
      "GCF_001888055.1     10\n",
      "GCF_000024505.1      6\n",
      "Name: version, dtype: int64\n",
      "CPU times: user 47.4 s, sys: 2.06 s, total: 49.5 s\n",
      "Wall time: 6min 58s\n"
     ]
    }
   ],
   "source": [
    "%%time\n",
    "DB = randomSubsetClass\n",
    "DBname = \"Proteobacteria\"\n",
    "\n",
    "df = TCSdomains(DB = randomSubsetClass)  \n",
    "\n",
    "df.to_csv(os.path.join(SampledTCSpath, f\"TCSPlaygound_{DBname}DB_{iteration}.csv\"), index = False)\n",
    "DB.to_csv(os.path.join(SampledGenomespath, f\"Sampled{DBname}DB_{iteration}.csv\"), index = False)"
   ]
  },
  {
   "cell_type": "markdown",
   "metadata": {},
   "source": [
    "#### Bacteria"
   ]
  },
  {
   "cell_type": "code",
   "execution_count": 48,
   "metadata": {
    "scrolled": true
   },
   "outputs": [
    {
     "data": {
      "text/plain": [
       "Proteobacteria           7\n",
       "Firmicutes               4\n",
       "Bacteroidetes            4\n",
       "Actinobacteria           3\n",
       "Chloroflexi              3\n",
       "Cyanobacteria            2\n",
       "Tenericutes              1\n",
       "Synergistetes            1\n",
       "Spirochaetes             1\n",
       "Thermodesulfobacteria    1\n",
       "Planctomycetes           1\n",
       "Fusobacteria             1\n",
       "Nitrospirae              1\n",
       "Nitrospinae              1\n",
       "Lentisphaerae            1\n",
       "Kiritimatiellaeota       1\n",
       "Ignavibacteriae          1\n",
       "Thermotogae              1\n",
       "Gemmatimonadetes         1\n",
       "Acidobacteria            1\n",
       "Elusimicrobia            1\n",
       "Fibrobacteres            1\n",
       "Dictyoglomi              1\n",
       "Deinococcus-Thermus      1\n",
       "Deferribacteres          1\n",
       "Coprothermobacterota     1\n",
       "Chrysiogenetes           1\n",
       "Chlorobi                 1\n",
       "Chlamydiae               1\n",
       "Calditrichaeota          1\n",
       "Caldiserica              1\n",
       "Balneolaeota             1\n",
       "Armatimonadetes          1\n",
       "Aquificae                1\n",
       "Verrucomicrobia          1\n",
       "Name: phylum, dtype: int64"
      ]
     },
     "execution_count": 48,
     "metadata": {},
     "output_type": "execute_result"
    }
   ],
   "source": [
    "BacteriaSubset = Bacteria.drop_duplicates(subset = [\"family\"])\n",
    "\n",
    "randomSubsetPhylum = randomSubset(df = BacteriaSubset, groupby = \"phylum\", frac = 0.25)\n",
    "randomSubsetPhylum[\"phylum\"].value_counts()"
   ]
  },
  {
   "cell_type": "code",
   "execution_count": 49,
   "metadata": {
    "scrolled": true,
    "tags": []
   },
   "outputs": [
    {
     "name": "stdout",
     "output_type": "stream",
     "text": [
      "RR           1875\n",
      "HK            943\n",
      "Hybrid_HK     447\n",
      "Name: TCStype, dtype: int64\n",
      "GCF_000219105.1    240\n",
      "GCF_000172555.1    232\n",
      "GCF_000423665.1    203\n",
      "GCF_001306135.1    158\n",
      "GCF_900099695.1    145\n",
      "GCF_000934435.1    141\n",
      "GCF_001886815.1    132\n",
      "GCF_000007565.2    129\n",
      "GCF_000012325.1    105\n",
      "GCF_000010305.1     99\n",
      "GCF_000279145.1     90\n",
      "GCF_000379805.1     88\n",
      "GCF_000724625.1     80\n",
      "GCF_000469585.1     79\n",
      "GCF_000196175.1     75\n",
      "GCF_000423825.1     74\n",
      "GCF_000011385.1     73\n",
      "GCF_900101745.1     70\n",
      "GCF_000022565.1     68\n",
      "GCF_000165715.2     67\n",
      "GCF_000341545.2     65\n",
      "GCF_000474745.1     62\n",
      "GCF_000024985.1     61\n",
      "GCF_000375465.1     49\n",
      "GCF_000218625.1     47\n",
      "GCF_900167165.1     42\n",
      "GCF_900128955.1     42\n",
      "GCF_000011905.1     40\n",
      "GCF_001294365.1     39\n",
      "GCF_000736515.1     39\n",
      "GCF_000284095.1     36\n",
      "GCF_000661895.1     35\n",
      "GCF_000190535.1     34\n",
      "GCF_000284315.1     32\n",
      "GCF_000426825.1     30\n",
      "GCF_000092425.1     27\n",
      "GCF_000170755.1     27\n",
      "GCF_000158195.2     26\n",
      "GCF_001017655.1     26\n",
      "GCF_000734015.1     24\n",
      "GCF_000745455.1     21\n",
      "GCF_000020465.1     19\n",
      "GCF_000218875.1     17\n",
      "GCF_000712295.1     15\n",
      "GCF_000191045.1     14\n",
      "GCF_000284335.1     11\n",
      "GCF_000020945.1     10\n",
      "GCF_000020965.1      9\n",
      "GCF_000008685.2      8\n",
      "GCF_000092785.1      7\n",
      "GCF_001027545.1      3\n",
      "Name: version, dtype: int64\n",
      "CPU times: user 1min 35s, sys: 4.27 s, total: 1min 39s\n",
      "Wall time: 14min 20s\n"
     ]
    }
   ],
   "source": [
    "%%time\n",
    "DB = randomSubsetPhylum\n",
    "DB = DB.drop(DB[DB.version == \"GCF_000178855.1\"].index)\n",
    "\n",
    "DBname = \"Bacteria\"\n",
    "df = TCSdomains(DB = randomSubsetPhylum)  \n",
    "\n",
    "df.to_csv(os.path.join(SampledTCSpath, f\"TCSPlaygound_{DBname}DB_{iteration}.csv\"), index = False)\n",
    "DB.to_csv(os.path.join(SampledGenomespath, f\"Sampled{DBname}DB_{iteration}.csv\"), index = False)"
   ]
  },
  {
   "cell_type": "markdown",
   "metadata": {},
   "source": [
    "## Alignment of REC domains\n",
    "- This analysis depends on the alignment of the REC domain only\n",
    "- *Note that aligning full length sequences will result in massively gapped regions and alignment bias*\n",
    "- Below we use hmmalign against to align RR sequences against the Response_reg hmm file\n",
    "\n"
   ]
  },
  {
   "cell_type": "code",
   "execution_count": 19,
   "metadata": {},
   "outputs": [],
   "source": [
    "def Align(df, DBname, TCStypes = [\"RR\", \"HK\"], iteration = 2):\n",
    "    \n",
    "\n",
    "    for TCStype in TCStypes:\n",
    "        dfsub = df[df.TCStype == TCStype]\n",
    "\n",
    "        if TCStype == \"HK\":\n",
    "            dfHHK = df[df.TCStype == \"Hybrid_HK\"]\n",
    "            \n",
    "            dfsub = pd.concat([dfsub,dfHHK])\n",
    "        seqfile = os.path.join(os.getcwd(),\"Alignment_Files\", f\"Full_{TCStype}_{DBname}_{iteration}.fasta\")\n",
    "\n",
    "        file = open(seqfile, \"w\")    \n",
    "        for stable_id, domain_seq in zip(dfsub.stable_id, dfsub.domain_seq):\n",
    "            if len(domain_seq) > 80:\n",
    "                file.write(\">\"+stable_id + \"\\n\" +domain_seq +\"\\n\")\n",
    "            else:\n",
    "                df.drop(df[df.stable_id == stable_id].index)\n",
    "\n",
    "        file.close()\n",
    "    \n",
    "    for TCStype in TCStypes:\n",
    "        dfsub = df[df.TCStype == TCStype]\n",
    "\n",
    "        if TCStype == \"HK\":\n",
    "            dfHHK = df[df.TCStype == \"Hybrid_HK\"]\n",
    "            \n",
    "            dfsub = pd.concat([dfsub,dfHHK])\n",
    "\n",
    "        hmmfile = os.path.join(os.getcwd(), \"Source_Files/\", \"Response_reg.hmm\")\n",
    "        seqfile = os.path.join(os.getcwd(),\"Alignment_Files\", f\"Full_{TCStype}_{DBname}_{iteration}.fasta\")\n",
    "        alignment_output = os.path.join(os.getcwd(),\"Alignment_Files\", f\"{TCStype}_{DBname}_hmmAlign_{iteration}.fasta\")\n",
    "        \n",
    "        file = open(seqfile, \"w\")    \n",
    "        for stable_id, sequence in zip(dfsub.stable_id, dfsub.sequence):\n",
    "            if len(sequence) > 80:\n",
    "                file.write(\">\"+stable_id + \"\\n\" +sequence +\"\\n\")\n",
    "            else:\n",
    "                df.drop(df[df.stable_id == stable_id].index)\n",
    "\n",
    "        file.close()\n",
    "            # https://mafft.cbrc.jp/alignment/software/manual/manual.html\n",
    "                # method for larger databases :\n",
    "                    # *FFT-NS-i (iterative refinement method; max. 1000 iterations):\n",
    "        command = \"hmmalign -o {2} --trim --amino --outformat afa {0} {1}\".format(hmmfile, seqfile, alignment_output)\n",
    "        print(command)\n",
    "        !{command} \n",
    "        print(\"Alignment for {} complete!\".format(TCStype))\n",
    "\n",
    "    return df"
   ]
  },
  {
   "cell_type": "code",
   "execution_count": 54,
   "metadata": {},
   "outputs": [
    {
     "name": "stdout",
     "output_type": "stream",
     "text": [
      "hmmalign -o /opt/jupyterhub/shared_notebooks/m-group/ALI/MG_stuff/RR_bioinformatics/TCSplayground/Alignment_Files/RR_Pseudomonas_hmmAlign_3.fasta --trim --amino --outformat afa /opt/jupyterhub/shared_notebooks/m-group/ALI/MG_stuff/RR_bioinformatics/TCSplayground/Source_Files/Response_reg.hmm /opt/jupyterhub/shared_notebooks/m-group/ALI/MG_stuff/RR_bioinformatics/TCSplayground/Alignment_Files/Full_RR_Pseudomonas_3.fasta\n",
      "Alignment for RR complete!\n",
      "hmmalign -o /opt/jupyterhub/shared_notebooks/m-group/ALI/MG_stuff/RR_bioinformatics/TCSplayground/Alignment_Files/RR_Proteobacteria_hmmAlign_3.fasta --trim --amino --outformat afa /opt/jupyterhub/shared_notebooks/m-group/ALI/MG_stuff/RR_bioinformatics/TCSplayground/Source_Files/Response_reg.hmm /opt/jupyterhub/shared_notebooks/m-group/ALI/MG_stuff/RR_bioinformatics/TCSplayground/Alignment_Files/Full_RR_Proteobacteria_3.fasta\n",
      "Alignment for RR complete!\n",
      "hmmalign -o /opt/jupyterhub/shared_notebooks/m-group/ALI/MG_stuff/RR_bioinformatics/TCSplayground/Alignment_Files/RR_Bacteria_hmmAlign_3.fasta --trim --amino --outformat afa /opt/jupyterhub/shared_notebooks/m-group/ALI/MG_stuff/RR_bioinformatics/TCSplayground/Source_Files/Response_reg.hmm /opt/jupyterhub/shared_notebooks/m-group/ALI/MG_stuff/RR_bioinformatics/TCSplayground/Alignment_Files/Full_RR_Bacteria_3.fasta\n",
      "Alignment for RR complete!\n"
     ]
    }
   ],
   "source": [
    "DBs = [\n",
    "    \"Pseudomonas\",\n",
    "    \"Proteobacteria\", \n",
    "    \"Bacteria\"\n",
    "]\n",
    "\n",
    "for DB in DBs:\n",
    "    df = pd.read_csv(os.path.join(SampledTCSpath, f\"TCSPlaygound_{DB}DB_{iteration}.csv\"))\n",
    "\n",
    "    Align(df, DBname = DB , TCStypes = [\"RR\"], iteration = iteration)"
   ]
  },
  {
   "cell_type": "markdown",
   "metadata": {
    "tags": []
   },
   "source": [
    "## Generate databases for other Phyla\n",
    "- Chloroflexi\n",
    "- Firmicutes\n",
    "- Bacteroidetes\n",
    "- Actinobacteri"
   ]
  },
  {
   "cell_type": "code",
   "execution_count": 56,
   "metadata": {},
   "outputs": [],
   "source": [
    "Other_Phyla = [\"Chloroflexi\", \"Firmicutes\", \"Bacteroidetes\", \"Actinobacteria\" ]\n",
    "iteration = 2"
   ]
  },
  {
   "cell_type": "markdown",
   "metadata": {},
   "source": [
    "#### Chloroflexi"
   ]
  },
  {
   "cell_type": "code",
   "execution_count": 57,
   "metadata": {},
   "outputs": [
    {
     "name": "stdout",
     "output_type": "stream",
     "text": [
      "Chloroflexia       2\n",
      "Dehalococcoidia    2\n",
      "Thermomicrobia     2\n",
      "Anaerolineae       1\n",
      "Ardenticatenia     1\n",
      "Caldilineae        1\n",
      "Ktedonobacteria    1\n",
      "Thermoflexia       1\n",
      "Name: class, dtype: int64\n"
     ]
    },
    {
     "name": "stderr",
     "output_type": "stream",
     "text": [
      "/usr/local/share/jupyteruser/.virtualenvs/biopython_3.8-kHq-BLTU/lib/python3.8/site-packages/pandas/util/_decorators.py:311: SettingWithCopyWarning: \n",
      "A value is trying to be set on a copy of a slice from a DataFrame\n",
      "\n",
      "See the caveats in the documentation: https://pandas.pydata.org/pandas-docs/stable/user_guide/indexing.html#returning-a-view-versus-a-copy\n",
      "  return func(*args, **kwargs)\n"
     ]
    },
    {
     "name": "stdout",
     "output_type": "stream",
     "text": [
      "RR           487\n",
      "HK           301\n",
      "Hybrid_HK     63\n",
      "Name: TCStype, dtype: int64\n",
      "GCF_001306135.1    158\n",
      "GCF_000017805.1    122\n",
      "GCF_001748285.1     99\n",
      "GCF_001050235.1     93\n",
      "GCF_001293545.1     79\n",
      "GCF_000281175.1     66\n",
      "GCF_000024985.1     61\n",
      "GCF_900187885.1     61\n",
      "GCF_000143165.1     49\n",
      "GCF_000011905.1     40\n",
      "GCF_000021685.1     23\n",
      "Name: version, dtype: int64\n"
     ]
    }
   ],
   "source": [
    "Chloroflexi = Bacteria[Bacteria.phylum ==  \"Chloroflexi\"]\n",
    "\n",
    "Chloroflexi = Chloroflexi[Chloroflexi[\"version\"] != \"GCF_000178855.1\"] # this genome wasn't working for some reason\n",
    "ChloroflexiSubset = Chloroflexi.drop_duplicates(subset = [\"genus\"])\n",
    "randomSubsetClass = randomSubset(df = ChloroflexiSubset, groupby = \"class\", frac = 1, add_PP = False)\n",
    "print(randomSubsetClass[\"class\"].value_counts())\n",
    "DB = randomSubsetClass\n",
    "DBname = \"Chloroflexi\"\n",
    "\n",
    "df = TCSdomains(DB = randomSubsetClass)  \n",
    "\n",
    "Chloroflexi.to_csv(os.path.join(Genomespath, f\"{DBname}DB.csv\"), index = False)\n",
    "df.to_csv(os.path.join(SampledTCSpath, f\"TCSPlaygound_{DBname}DB_{iteration}.csv\"), index = False)\n",
    "DB.to_csv(os.path.join(SampledGenomespath, f\"Sampled{DBname}DB_{iteration}.csv\"), index = False)"
   ]
  },
  {
   "cell_type": "markdown",
   "metadata": {
    "tags": []
   },
   "source": [
    "#### Firmicutes"
   ]
  },
  {
   "cell_type": "code",
   "execution_count": 58,
   "metadata": {},
   "outputs": [
    {
     "name": "stdout",
     "output_type": "stream",
     "text": [
      "Clostridia          4\n",
      "Negativicutes       3\n",
      "Bacilli             2\n",
      "Tissierellia        2\n",
      "Erysipelotrichia    1\n",
      "Limnochordia        1\n",
      "Name: class, dtype: int64\n",
      "RR           303\n",
      "HK           154\n",
      "Hybrid_HK      2\n",
      "Name: TCStype, dtype: int64\n",
      "GCF_000173815.1    113\n",
      "GCF_000219125.1     60\n",
      "GCF_001544015.1     54\n",
      "GCF_000497245.1     50\n",
      "GCF_000213255.1     42\n",
      "GCF_000020005.1     34\n",
      "GCF_000020485.1     21\n",
      "GCF_900120165.1     18\n",
      "GCF_000154285.1     18\n",
      "GCF_000425865.1     18\n",
      "GCF_900059565.1     15\n",
      "GCF_900103425.1      8\n",
      "GCF_900112895.1      8\n",
      "Name: version, dtype: int64\n"
     ]
    }
   ],
   "source": [
    "Firmicutes = Bacteria[Bacteria.phylum ==  \"Firmicutes\"]\n",
    "\n",
    "FirmicutesSubset = Firmicutes.drop_duplicates(subset = [\"genus\"])\n",
    "randomSubsetClass = randomSubset(df = FirmicutesSubset, groupby = \"class\", frac = 1, add_PP = False)\n",
    "print(randomSubsetClass[\"class\"].value_counts())\n",
    "DB = randomSubsetClass\n",
    "DBname = \"Firmicutes\"\n",
    "\n",
    "df = TCSdomains(DB = randomSubsetClass)  \n",
    "\n",
    "Firmicutes.to_csv(os.path.join(Genomespath, f\"{DBname}DB.csv\"), index = False)\n",
    "df.to_csv(os.path.join(SampledTCSpath, f\"TCSPlaygound_{DBname}DB_{iteration}.csv\"), index = False)\n",
    "DB.to_csv(os.path.join(SampledGenomespath, f\"Sampled{DBname}DB_{iteration}.csv\"), index = False)"
   ]
  },
  {
   "cell_type": "markdown",
   "metadata": {},
   "source": [
    "#### Bacteroidetes"
   ]
  },
  {
   "cell_type": "code",
   "execution_count": 59,
   "metadata": {},
   "outputs": [
    {
     "name": "stdout",
     "output_type": "stream",
     "text": [
      "Bacteroidia         2\n",
      "Chitinophagia       1\n",
      "Cytophagia          1\n",
      "Flavobacteriia      1\n",
      "Saprospiria         1\n",
      "Sphingobacteriia    1\n",
      "Name: class, dtype: int64\n",
      "RR           264\n",
      "HK           135\n",
      "Hybrid_HK     67\n",
      "Name: TCStype, dtype: int64\n",
      "GCF_000759025.1    94\n",
      "GCF_900106985.1    82\n",
      "GCF_000143765.1    77\n",
      "GCF_900141875.1    76\n",
      "GCF_000265405.1    63\n",
      "GCF_001439665.1    57\n",
      "GCF_002201515.1    17\n",
      "Name: version, dtype: int64\n"
     ]
    }
   ],
   "source": [
    "Bacteroidetes = Bacteria[Bacteria.phylum ==  \"Bacteroidetes\"]\n",
    "\n",
    "BacteroidetesSubset = Bacteroidetes.drop_duplicates(subset = [\"genus\"])\n",
    "randomSubsetClass = randomSubset(df = BacteroidetesSubset, groupby = \"class\", frac = 1, add_PP = False)\n",
    "print(randomSubsetClass[\"class\"].value_counts())\n",
    "DB = randomSubsetClass\n",
    "DBname = \"Bacteroidetes\"\n",
    "\n",
    "df = TCSdomains(DB = randomSubsetClass)  \n",
    "\n",
    "Bacteroidetes.to_csv(os.path.join(Genomespath, f\"{DBname}DB.csv\"), index = False)\n",
    "df.to_csv(os.path.join(SampledTCSpath, f\"TCSPlaygound_{DBname}DB_{iteration}.csv\"), index = False)\n",
    "DB.to_csv(os.path.join(SampledGenomespath, f\"Sampled{DBname}DB_{iteration}.csv\"), index = False)"
   ]
  },
  {
   "cell_type": "markdown",
   "metadata": {},
   "source": [
    "#### Actinobacteria"
   ]
  },
  {
   "cell_type": "code",
   "execution_count": 60,
   "metadata": {},
   "outputs": [
    {
     "name": "stdout",
     "output_type": "stream",
     "text": [
      "Actinobacteria     7\n",
      "Acidimicrobiia     1\n",
      "Coriobacteriia     1\n",
      "Nitriliruptoria    1\n",
      "Rubrobacteria      1\n",
      "Thermoleophilia    1\n",
      "Name: class, dtype: int64\n",
      "RR           509\n",
      "HK           240\n",
      "Hybrid_HK     37\n",
      "Name: TCStype, dtype: int64\n",
      "GCF_000284295.1    187\n",
      "GCF_000969705.1    100\n",
      "GCF_000504285.1     96\n",
      "GCF_000519325.1     79\n",
      "GCF_000062885.1     67\n",
      "GCF_900105065.1     58\n",
      "GCF_900129455.1     45\n",
      "GCF_000210055.1     39\n",
      "GCF_000949295.1     37\n",
      "GCF_000661895.1     35\n",
      "GCF_001887245.1     24\n",
      "GCF_001941425.1     19\n",
      "Name: version, dtype: int64\n"
     ]
    }
   ],
   "source": [
    "Actinobacteria = Bacteria[Bacteria.phylum ==  \"Actinobacteria\"]\n",
    "\n",
    "ActinobacteriaSubset = Actinobacteria.drop_duplicates(subset = [\"genus\"])\n",
    "randomSubsetClass = randomSubset(df = ActinobacteriaSubset, groupby = \"class\", frac = 0.1, add_PP = False)\n",
    "print(randomSubsetClass[\"class\"].value_counts())\n",
    "DB = randomSubsetClass\n",
    "DBname = \"Actinobacteria\"\n",
    "\n",
    "df = TCSdomains(DB = randomSubsetClass)  \n",
    "\n",
    "\n",
    "Actinobacteria.to_csv(os.path.join(Genomespath, f\"{DBname}DB.csv\"), index = False)\n",
    "df.to_csv(os.path.join(SampledTCSpath, f\"TCSPlaygound_{DBname}DB_{iteration}.csv\"), index = False)\n",
    "DB.to_csv(os.path.join(SampledGenomespath, f\"Sampled{DBname}DB_{iteration}.csv\"), index = False)"
   ]
  },
  {
   "cell_type": "code",
   "execution_count": 70,
   "metadata": {},
   "outputs": [
    {
     "name": "stdout",
     "output_type": "stream",
     "text": [
      "hmmalign -o /opt/jupyterhub/shared_notebooks/m-group/ALI/MG_stuff/RR_bioinformatics/TCSplayground/Alignment_Files/RR_Chloroflexi_hmmAlign_2.fasta --trim --amino --outformat afa /opt/jupyterhub/shared_notebooks/m-group/ALI/MG_stuff/RR_bioinformatics/TCSplayground/Source_Files/Response_reg.hmm /opt/jupyterhub/shared_notebooks/m-group/ALI/MG_stuff/RR_bioinformatics/TCSplayground/Alignment_Files/Full_RR_Chloroflexi_2.fasta\n",
      "Alignment for RR complete!\n",
      "hmmalign -o /opt/jupyterhub/shared_notebooks/m-group/ALI/MG_stuff/RR_bioinformatics/TCSplayground/Alignment_Files/RR_Firmicutes_hmmAlign_2.fasta --trim --amino --outformat afa /opt/jupyterhub/shared_notebooks/m-group/ALI/MG_stuff/RR_bioinformatics/TCSplayground/Source_Files/Response_reg.hmm /opt/jupyterhub/shared_notebooks/m-group/ALI/MG_stuff/RR_bioinformatics/TCSplayground/Alignment_Files/Full_RR_Firmicutes_2.fasta\n",
      "Alignment for RR complete!\n",
      "hmmalign -o /opt/jupyterhub/shared_notebooks/m-group/ALI/MG_stuff/RR_bioinformatics/TCSplayground/Alignment_Files/RR_Bacteroidetes_hmmAlign_2.fasta --trim --amino --outformat afa /opt/jupyterhub/shared_notebooks/m-group/ALI/MG_stuff/RR_bioinformatics/TCSplayground/Source_Files/Response_reg.hmm /opt/jupyterhub/shared_notebooks/m-group/ALI/MG_stuff/RR_bioinformatics/TCSplayground/Alignment_Files/Full_RR_Bacteroidetes_2.fasta\n",
      "Alignment for RR complete!\n",
      "hmmalign -o /opt/jupyterhub/shared_notebooks/m-group/ALI/MG_stuff/RR_bioinformatics/TCSplayground/Alignment_Files/RR_Actinobacteria_hmmAlign_2.fasta --trim --amino --outformat afa /opt/jupyterhub/shared_notebooks/m-group/ALI/MG_stuff/RR_bioinformatics/TCSplayground/Source_Files/Response_reg.hmm /opt/jupyterhub/shared_notebooks/m-group/ALI/MG_stuff/RR_bioinformatics/TCSplayground/Alignment_Files/Full_RR_Actinobacteria_2.fasta\n",
      "Alignment for RR complete!\n"
     ]
    }
   ],
   "source": [
    "DBs = Other_Phyla\n",
    "\n",
    "for DB in DBs:\n",
    "    df = pd.read_csv(os.path.join(SampledTCSpath, f\"TCSPlaygound_{DB}DB_{iteration}.csv\".format()))\n",
    "\n",
    "    Align(df, DBname = DB , TCStypes = [\"RR\"], iteration = iteration)"
   ]
  },
  {
   "cell_type": "markdown",
   "metadata": {
    "tags": []
   },
   "source": [
    "# Generate Databases for classes in Proteobacteria\n",
    " - Alphaproteobacteria\n",
    " - Betaproteobacteria\n",
    " - Gammaproteobacteria"
   ]
  },
  {
   "cell_type": "code",
   "execution_count": 140,
   "metadata": {},
   "outputs": [],
   "source": [
    "Proteo_classes = [\"Alphaproteobacteria\", \"Betaproteobacteria\", \"Gammaproteobacteria\"]\n",
    "iteration =2"
   ]
  },
  {
   "cell_type": "markdown",
   "metadata": {},
   "source": [
    "##### Alphaproteobacteria"
   ]
  },
  {
   "cell_type": "code",
   "execution_count": 63,
   "metadata": {},
   "outputs": [
    {
     "name": "stdout",
     "output_type": "stream",
     "text": [
      "Rhodobacterales     5\n",
      "Rhizobiales         4\n",
      "Caulobacterales     2\n",
      "Rhodospirillales    2\n",
      "Rickettsiales       2\n",
      "Holosporales        1\n",
      "Kiloniellales       1\n",
      "Kordiimonadales     1\n",
      "Magnetococcales     1\n",
      "Parvularculales     1\n",
      "Sneathiellales      1\n",
      "Sphingomonadales    1\n",
      "Name: order, dtype: int64\n"
     ]
    },
    {
     "name": "stderr",
     "output_type": "stream",
     "text": [
      "/usr/local/share/jupyteruser/.virtualenvs/biopython_3.8-kHq-BLTU/lib/python3.8/site-packages/pandas/util/_decorators.py:311: SettingWithCopyWarning: \n",
      "A value is trying to be set on a copy of a slice from a DataFrame\n",
      "\n",
      "See the caveats in the documentation: https://pandas.pydata.org/pandas-docs/stable/user_guide/indexing.html#returning-a-view-versus-a-copy\n",
      "  return func(*args, **kwargs)\n"
     ]
    },
    {
     "name": "stdout",
     "output_type": "stream",
     "text": [
      "RR           797\n",
      "HK           409\n",
      "Hybrid_HK    252\n",
      "Name: TCStype, dtype: int64\n",
      "GCF_002109495.1    151\n",
      "GCF_001746755.1    126\n",
      "GCF_000204015.1    125\n",
      "GCF_000374005.1     95\n",
      "GCF_000018545.1     85\n",
      "GCF_001484065.1     84\n",
      "GCF_000383415.1     81\n",
      "GCF_000739895.2     75\n",
      "GCF_000496075.1     74\n",
      "GCF_000375545.1     72\n",
      "GCF_000420665.1     71\n",
      "GCF_002208825.2     71\n",
      "GCF_900188425.1     62\n",
      "GCF_900172325.1     60\n",
      "GCF_900172315.1     49\n",
      "GCF_000429365.1     49\n",
      "GCF_900199215.1     44\n",
      "GCF_000378465.1     43\n",
      "GCF_000325745.1     16\n",
      "GCF_001192655.1     11\n",
      "GCF_000063545.1      8\n",
      "GCF_000026005.1      6\n",
      "Name: version, dtype: int64\n"
     ]
    }
   ],
   "source": [
    "Alphaproteobacteria = Bacteria[Bacteria[\"class\"] ==  \"Alphaproteobacteria\"]\n",
    "\n",
    "AlphaproteobacteriaSubset = Alphaproteobacteria.drop_duplicates(subset = [\"genus\"])\n",
    "randomSubsetOrder = randomSubset(df = AlphaproteobacteriaSubset, groupby = \"order\", frac = .05, second_frac=0.25, add_PP = False)\n",
    "print(randomSubsetOrder[\"order\"].value_counts())\n",
    "DB = randomSubsetOrder\n",
    "DBname = \"Alphaproteobacteria\"\n",
    "\n",
    "df = TCSdomains(DB = randomSubsetOrder)  \n",
    "\n",
    "Alphaproteobacteria.to_csv(os.path.join(Genomespath, f\"{DBname}DB.csv\"), index = False)\n",
    "df.to_csv(os.path.join(SampledTCSpath, f\"TCSPlaygound_{DBname}DB_{iteration}.csv\"), index = False)\n",
    "DB.to_csv(os.path.join(SampledGenomespath, f\"Sampled{DBname}DB_{iteration}.csv\"), index = False)"
   ]
  },
  {
   "cell_type": "markdown",
   "metadata": {},
   "source": [
    "##### Betaproteobacteria"
   ]
  },
  {
   "cell_type": "code",
   "execution_count": 64,
   "metadata": {},
   "outputs": [
    {
     "name": "stdout",
     "output_type": "stream",
     "text": [
      "Burkholderiales     4\n",
      "Rhodocyclales       2\n",
      "Ferrovales          1\n",
      "Neisseriales        1\n",
      "Nitrosomonadales    1\n",
      "Name: order, dtype: int64\n",
      "RR           564\n",
      "HK           274\n",
      "Hybrid_HK    138\n",
      "Name: TCStype, dtype: int64\n",
      "GCF_000519045.1    155\n",
      "GCF_000214035.1    146\n",
      "GCF_001293525.1    142\n",
      "GCF_000236665.1    133\n",
      "GCF_900112675.1    106\n",
      "GCF_900115065.1     95\n",
      "GCF_000970345.1     94\n",
      "GCF_002214645.1     56\n",
      "GCF_000735045.1     49\n",
      "Name: version, dtype: int64\n"
     ]
    }
   ],
   "source": [
    "Betaproteobacteria = Bacteria[Bacteria[\"class\"] ==  \"Betaproteobacteria\"]\n",
    "\n",
    "BetaproteobacteriaSubset = Betaproteobacteria.drop_duplicates(subset = [\"genus\"])\n",
    "randomSubsetOrder = randomSubset(df = BetaproteobacteriaSubset, groupby = \"order\", frac = 0.05, second_frac= 0.25, add_PP = False)\n",
    "print(randomSubsetOrder[\"order\"].value_counts())\n",
    "DB = randomSubsetOrder\n",
    "DBname = \"Betaproteobacteria\"\n",
    "\n",
    "df = TCSdomains(DB = randomSubsetOrder)  \n",
    "\n",
    "\n",
    "Betaproteobacteria.to_csv(os.path.join(Genomespath, f\"{DBname}DB.csv\"), index = False)\n",
    "df.to_csv(os.path.join(SampledTCSpath, f\"TCSPlaygound_{DBname}DB_{iteration}.csv\"), index = False)\n",
    "DB.to_csv(os.path.join(SampledGenomespath, f\"Sampled{DBname}DB_{iteration}.csv\"), index = False)"
   ]
  },
  {
   "cell_type": "markdown",
   "metadata": {},
   "source": [
    "##### Gammaproteobacteria"
   ]
  },
  {
   "cell_type": "code",
   "execution_count": 65,
   "metadata": {},
   "outputs": [
    {
     "name": "stdout",
     "output_type": "stream",
     "text": [
      "Enterobacterales         5\n",
      "Chromatiales             3\n",
      "Oceanospirillales        3\n",
      "Xanthomonadales          2\n",
      "Pasteurellales           2\n",
      "Alteromonadales          2\n",
      "Cardiobacteriales        2\n",
      "Cellvibrionales          2\n",
      "Thiotrichales            2\n",
      "Vibrionales              1\n",
      "Salinisphaerales         1\n",
      "Pseudomonadales          1\n",
      "Acidiferrobacterales     1\n",
      "Orbales                  1\n",
      "Nevskiales               1\n",
      "Aeromonadales            1\n",
      "Legionellales            1\n",
      "Immundisolibacterales    1\n",
      "Methylococcales          1\n",
      "Name: order, dtype: int64\n",
      "RR           837\n",
      "HK           354\n",
      "Hybrid_HK    162\n",
      "Name: TCStype, dtype: int64\n",
      "GCF_000711985.1    118\n",
      "GCF_001442515.1     95\n",
      "GCF_000260135.1     94\n",
      "GCF_000314975.1     93\n",
      "GCF_000425345.1     90\n",
      "GCF_000377745.1     62\n",
      "GCF_001975225.1     59\n",
      "GCF_000009365.1     52\n",
      "GCF_000300815.1     51\n",
      "GCF_000757785.1     44\n",
      "GCF_002077135.1     43\n",
      "GCF_000439085.1     42\n",
      "GCF_001586165.1     41\n",
      "GCF_000215955.2     40\n",
      "GCF_000711315.1     39\n",
      "GCF_002072955.1     38\n",
      "GCF_000565345.1     38\n",
      "GCF_000024085.1     36\n",
      "GCF_900113085.1     35\n",
      "GCF_000744735.1     31\n",
      "GCF_001705075.1     29\n",
      "GCF_001697225.1     27\n",
      "GCF_001678785.1     25\n",
      "GCF_900156225.1     21\n",
      "GCF_000807275.1     20\n",
      "GCF_001889065.1     19\n",
      "GCF_000007765.2     15\n",
      "GCF_001679005.1     15\n",
      "GCF_000209675.1     14\n",
      "GCF_001888055.1     10\n",
      "GCF_001038205.1      9\n",
      "GCF_000188195.1      8\n",
      "Name: version, dtype: int64\n"
     ]
    }
   ],
   "source": [
    "Gammaproteobacteria = Bacteria[Bacteria[\"class\"] ==  \"Gammaproteobacteria\"]\n",
    "\n",
    "GammaproteobacteriaSubset = Gammaproteobacteria.drop_duplicates(subset = [\"genus\"])\n",
    "randomSubsetOrder = randomSubset(df = GammaproteobacteriaSubset, groupby = \"order\", frac = 0.1, second_frac= 0.25, add_PP = False)\n",
    "print(randomSubsetOrder[\"order\"].value_counts())\n",
    "DB = randomSubsetOrder\n",
    "DBname = \"Gammaproteobacteria\"\n",
    "\n",
    "df = TCSdomains(DB = randomSubsetOrder)  \n",
    "\n",
    "Gammaproteobacteria.to_csv(os.path.join(Genomespath, f\"{DBname}DB.csv\"), index = False)\n",
    "df.to_csv(os.path.join(SampledTCSpath, f\"TCSPlaygound_{DBname}DB_{iteration}.csv\"), index = False)\n",
    "DB.to_csv(os.path.join(SampledGenomespath, f\"Sampled{DBname}DB_{iteration}.csv\"), index = False)\n"
   ]
  },
  {
   "cell_type": "markdown",
   "metadata": {},
   "source": [
    "##### Deltaproteobacteria"
   ]
  },
  {
   "cell_type": "code",
   "execution_count": 145,
   "metadata": {},
   "outputs": [
    {
     "name": "stdout",
     "output_type": "stream",
     "text": [
      "Desulfobacterales      4\n",
      "Desulfovibrionales     3\n",
      "Myxococcales           3\n",
      "Desulfarculales        1\n",
      "Desulfurellales        1\n",
      "Desulfuromonadales     1\n",
      "Syntrophobacterales    1\n",
      "Name: order, dtype: int64\n",
      "RR           904\n",
      "HK           466\n",
      "Hybrid_HK    302\n",
      "Name: TCStype, dtype: int64\n",
      "GCF_000420085.1    206\n",
      "GCF_001293685.1    189\n",
      "GCF_000022145.1    165\n",
      "GCF_001184205.1    164\n",
      "GCF_000426225.1    160\n",
      "GCF_000170895.1    124\n",
      "GCF_000014965.1    122\n",
      "GCF_000174435.1    117\n",
      "GCF_000092205.1    115\n",
      "GCF_000167355.1    105\n",
      "GCF_000422525.1     87\n",
      "GCF_001263175.1     83\n",
      "GCF_900155525.1     21\n",
      "GCF_000194135.1     14\n",
      "Name: version, dtype: int64\n"
     ]
    }
   ],
   "source": [
    "iteration =2\n",
    "Deltaproteobacteria = Bacteria[Bacteria[\"class\"] ==  \"Deltaproteobacteria\"]\n",
    "\n",
    "DeltaproteobacteriaSubset = Deltaproteobacteria.drop_duplicates(subset = [\"genus\"])\n",
    "randomSubsetOrder = randomSubset(df = DeltaproteobacteriaSubset, groupby = \"order\", frac = 0.2, second_frac= 0.25, add_PP = False)\n",
    "print(randomSubsetOrder[\"order\"].value_counts())\n",
    "DB = randomSubsetOrder\n",
    "DBname = \"Deltaproteobacteria\"\n",
    "\n",
    "df = TCSdomains(DB = randomSubsetOrder)  \n",
    "\n",
    "Deltaproteobacteria.to_csv(os.path.join(Genomespath, f\"{DBname}GenomesDB.csv\"), index = False)\n",
    "df.to_csv(os.path.join(SampledTCSpath, f\"TCSPlaygound_{DBname}DB_{iteration}.csv\"), index = False)\n",
    "DB.to_csv(os.path.join(SampledGenomespath, f\"Sampled{DBname}DB_{iteration}.csv\"), index = False)\n"
   ]
  },
  {
   "cell_type": "code",
   "execution_count": null,
   "metadata": {},
   "outputs": [],
   "source": []
  },
  {
   "cell_type": "markdown",
   "metadata": {},
   "source": [
    "#### Alignments"
   ]
  },
  {
   "cell_type": "code",
   "execution_count": 146,
   "metadata": {},
   "outputs": [
    {
     "name": "stdout",
     "output_type": "stream",
     "text": [
      "hmmalign -o /opt/jupyterhub/shared_notebooks/m-group/ALI/MG_stuff/RR_bioinformatics/TCSplayground/Alignment_Files/RR_Alphaproteobacteria_hmmAlign_2.fasta --trim --amino --outformat afa /opt/jupyterhub/shared_notebooks/m-group/ALI/MG_stuff/RR_bioinformatics/TCSplayground/Source_Files/Response_reg.hmm /opt/jupyterhub/shared_notebooks/m-group/ALI/MG_stuff/RR_bioinformatics/TCSplayground/Alignment_Files/Full_RR_Alphaproteobacteria_2.fasta\n",
      "Alignment for RR complete!\n",
      "hmmalign -o /opt/jupyterhub/shared_notebooks/m-group/ALI/MG_stuff/RR_bioinformatics/TCSplayground/Alignment_Files/RR_Betaproteobacteria_hmmAlign_2.fasta --trim --amino --outformat afa /opt/jupyterhub/shared_notebooks/m-group/ALI/MG_stuff/RR_bioinformatics/TCSplayground/Source_Files/Response_reg.hmm /opt/jupyterhub/shared_notebooks/m-group/ALI/MG_stuff/RR_bioinformatics/TCSplayground/Alignment_Files/Full_RR_Betaproteobacteria_2.fasta\n",
      "Alignment for RR complete!\n",
      "hmmalign -o /opt/jupyterhub/shared_notebooks/m-group/ALI/MG_stuff/RR_bioinformatics/TCSplayground/Alignment_Files/RR_Gammaproteobacteria_hmmAlign_2.fasta --trim --amino --outformat afa /opt/jupyterhub/shared_notebooks/m-group/ALI/MG_stuff/RR_bioinformatics/TCSplayground/Source_Files/Response_reg.hmm /opt/jupyterhub/shared_notebooks/m-group/ALI/MG_stuff/RR_bioinformatics/TCSplayground/Alignment_Files/Full_RR_Gammaproteobacteria_2.fasta\n",
      "Alignment for RR complete!\n",
      "hmmalign -o /opt/jupyterhub/shared_notebooks/m-group/ALI/MG_stuff/RR_bioinformatics/TCSplayground/Alignment_Files/RR_Deltaproteobacteria_hmmAlign_2.fasta --trim --amino --outformat afa /opt/jupyterhub/shared_notebooks/m-group/ALI/MG_stuff/RR_bioinformatics/TCSplayground/Source_Files/Response_reg.hmm /opt/jupyterhub/shared_notebooks/m-group/ALI/MG_stuff/RR_bioinformatics/TCSplayground/Alignment_Files/Full_RR_Deltaproteobacteria_2.fasta\n",
      "Alignment for RR complete!\n"
     ]
    }
   ],
   "source": [
    "iteration = 2\n",
    "DBs = Proteo_classes +[\"Deltaproteobacteria\"]\n",
    "\n",
    "for DB in DBs:\n",
    "    df = pd.read_csv(os.path.join(SampledTCSpath, f\"TCSPlaygound_{DB}DB_{iteration}.csv\"))\n",
    "\n",
    "    Align(df, DBname = DB , TCStypes = [\"RR\"], iteration = iteration)"
   ]
  },
  {
   "cell_type": "markdown",
   "metadata": {
    "tags": []
   },
   "source": [
    "#### Alphaproteobacteria genuses that represent the order\n",
    "- Searched through database to find genus of alphaproteobacteria with largest number of genomes\n",
    "- DBs = [\"Sphingomonas\", \"Paracoccus\",\"Bartonella\", \"Rickettsia\",\"Rhizobium\",\"Acetobacter\", \"Brevundimonas\" ]\n",
    "- Concatenate DBs with Pseudomonas Putida KT220 for cluster annotation\n"
   ]
  },
  {
   "cell_type": "code",
   "execution_count": 107,
   "metadata": {},
   "outputs": [],
   "source": [
    "dfPseudmonas = pd.read_csv(os.path.join(SampledTCSpath, f\"TCSPlaygound_PseudomonasDB_3.csv\"))\n",
    "dfPseudmonas.head()\n",
    "dfPP = dfPseudmonas[dfPseudmonas[\"stable_id\"].str.contains(\"PP\")]     "
   ]
  },
  {
   "cell_type": "code",
   "execution_count": 129,
   "metadata": {},
   "outputs": [],
   "source": [
    "DBs = [\n",
    "    \"Sphingomonas\",\n",
    "    \"Paracoccus\",\n",
    "    \"Bartonella\", \"Rickettsia\",\"Rhizobium\",\"Acetobacter\", \"Brevundimonas\" \n",
    "]\n",
    "\n",
    "# iteration = 1\n",
    "\n",
    "# for DBname in DBs:\n",
    "#     print(DBname)\n",
    "#     DB =  Proteobacteria[Proteobacteria.genus == DBname]\n",
    "#     DB.to_csv(os.path.join(Genomespath, f\"{DBname}GenomesDB.csv\"), index= False)\n",
    "#     DB.to_csv(os.path.join(SampledGenomespath, f\"Sampled{DBname}DB_{iteration}.csv\"), index = False)\n",
    "\n",
    "#     df = TCSdomains(DB = DB)\n",
    "\n",
    "#     df.to_csv(os.path.join(SampledTCSpath, f\"TCSPlaygound_{DBname}DB_{iteration}.csv\"), index = False)\n",
    "    \n",
    "    \n",
    "#     dfPP_concat = pd.concat([df, dfPP])\n",
    "#     dfPP_concat.to_csv(os.path.join(SampledTCSpath, f\"TCSPlaygound_{DBname}_PPDB_{iteration}.csv\"), index = False)\n",
    "#     Bacteria[Bacteria[\"version\"].isin(dfPP_concat[\"version\"].unique())].to_csv(os.path.join(Genomespath, f\"{DBname}_PPGenomesDB.csv\"), index = False)\n",
    "\n",
    "\n"
   ]
  },
  {
   "cell_type": "code",
   "execution_count": 130,
   "metadata": {},
   "outputs": [
    {
     "data": {
      "text/plain": [
       "['Sphingomonas_PP',\n",
       " 'Paracoccus_PP',\n",
       " 'Bartonella_PP',\n",
       " 'Rickettsia_PP',\n",
       " 'Rhizobium_PP',\n",
       " 'Acetobacter_PP',\n",
       " 'Brevundimonas_PP']"
      ]
     },
     "execution_count": 130,
     "metadata": {},
     "output_type": "execute_result"
    }
   ],
   "source": [
    "[f\"{DB}_PP\" for DB in DBs]"
   ]
  },
  {
   "cell_type": "code",
   "execution_count": 132,
   "metadata": {},
   "outputs": [
    {
     "name": "stdout",
     "output_type": "stream",
     "text": [
      "hmmalign -o /opt/jupyterhub/shared_notebooks/m-group/ALI/MG_stuff/RR_bioinformatics/TCSplayground/Alignment_Files/RR_Sphingomonas_hmmAlign_1.fasta --trim --amino --outformat afa /opt/jupyterhub/shared_notebooks/m-group/ALI/MG_stuff/RR_bioinformatics/TCSplayground/Source_Files/Response_reg.hmm /opt/jupyterhub/shared_notebooks/m-group/ALI/MG_stuff/RR_bioinformatics/TCSplayground/Alignment_Files/Full_RR_Sphingomonas_1.fasta\n",
      "Alignment for RR complete!\n",
      "hmmalign -o /opt/jupyterhub/shared_notebooks/m-group/ALI/MG_stuff/RR_bioinformatics/TCSplayground/Alignment_Files/RR_Paracoccus_hmmAlign_1.fasta --trim --amino --outformat afa /opt/jupyterhub/shared_notebooks/m-group/ALI/MG_stuff/RR_bioinformatics/TCSplayground/Source_Files/Response_reg.hmm /opt/jupyterhub/shared_notebooks/m-group/ALI/MG_stuff/RR_bioinformatics/TCSplayground/Alignment_Files/Full_RR_Paracoccus_1.fasta\n",
      "Alignment for RR complete!\n",
      "hmmalign -o /opt/jupyterhub/shared_notebooks/m-group/ALI/MG_stuff/RR_bioinformatics/TCSplayground/Alignment_Files/RR_Bartonella_hmmAlign_1.fasta --trim --amino --outformat afa /opt/jupyterhub/shared_notebooks/m-group/ALI/MG_stuff/RR_bioinformatics/TCSplayground/Source_Files/Response_reg.hmm /opt/jupyterhub/shared_notebooks/m-group/ALI/MG_stuff/RR_bioinformatics/TCSplayground/Alignment_Files/Full_RR_Bartonella_1.fasta\n",
      "Alignment for RR complete!\n",
      "hmmalign -o /opt/jupyterhub/shared_notebooks/m-group/ALI/MG_stuff/RR_bioinformatics/TCSplayground/Alignment_Files/RR_Rickettsia_hmmAlign_1.fasta --trim --amino --outformat afa /opt/jupyterhub/shared_notebooks/m-group/ALI/MG_stuff/RR_bioinformatics/TCSplayground/Source_Files/Response_reg.hmm /opt/jupyterhub/shared_notebooks/m-group/ALI/MG_stuff/RR_bioinformatics/TCSplayground/Alignment_Files/Full_RR_Rickettsia_1.fasta\n",
      "Alignment for RR complete!\n",
      "hmmalign -o /opt/jupyterhub/shared_notebooks/m-group/ALI/MG_stuff/RR_bioinformatics/TCSplayground/Alignment_Files/RR_Rhizobium_hmmAlign_1.fasta --trim --amino --outformat afa /opt/jupyterhub/shared_notebooks/m-group/ALI/MG_stuff/RR_bioinformatics/TCSplayground/Source_Files/Response_reg.hmm /opt/jupyterhub/shared_notebooks/m-group/ALI/MG_stuff/RR_bioinformatics/TCSplayground/Alignment_Files/Full_RR_Rhizobium_1.fasta\n",
      "Alignment for RR complete!\n",
      "hmmalign -o /opt/jupyterhub/shared_notebooks/m-group/ALI/MG_stuff/RR_bioinformatics/TCSplayground/Alignment_Files/RR_Acetobacter_hmmAlign_1.fasta --trim --amino --outformat afa /opt/jupyterhub/shared_notebooks/m-group/ALI/MG_stuff/RR_bioinformatics/TCSplayground/Source_Files/Response_reg.hmm /opt/jupyterhub/shared_notebooks/m-group/ALI/MG_stuff/RR_bioinformatics/TCSplayground/Alignment_Files/Full_RR_Acetobacter_1.fasta\n",
      "Alignment for RR complete!\n",
      "hmmalign -o /opt/jupyterhub/shared_notebooks/m-group/ALI/MG_stuff/RR_bioinformatics/TCSplayground/Alignment_Files/RR_Brevundimonas_hmmAlign_1.fasta --trim --amino --outformat afa /opt/jupyterhub/shared_notebooks/m-group/ALI/MG_stuff/RR_bioinformatics/TCSplayground/Source_Files/Response_reg.hmm /opt/jupyterhub/shared_notebooks/m-group/ALI/MG_stuff/RR_bioinformatics/TCSplayground/Alignment_Files/Full_RR_Brevundimonas_1.fasta\n",
      "Alignment for RR complete!\n",
      "hmmalign -o /opt/jupyterhub/shared_notebooks/m-group/ALI/MG_stuff/RR_bioinformatics/TCSplayground/Alignment_Files/RR_Sphingomonas_PP_hmmAlign_1.fasta --trim --amino --outformat afa /opt/jupyterhub/shared_notebooks/m-group/ALI/MG_stuff/RR_bioinformatics/TCSplayground/Source_Files/Response_reg.hmm /opt/jupyterhub/shared_notebooks/m-group/ALI/MG_stuff/RR_bioinformatics/TCSplayground/Alignment_Files/Full_RR_Sphingomonas_PP_1.fasta\n",
      "Alignment for RR complete!\n",
      "hmmalign -o /opt/jupyterhub/shared_notebooks/m-group/ALI/MG_stuff/RR_bioinformatics/TCSplayground/Alignment_Files/RR_Paracoccus_PP_hmmAlign_1.fasta --trim --amino --outformat afa /opt/jupyterhub/shared_notebooks/m-group/ALI/MG_stuff/RR_bioinformatics/TCSplayground/Source_Files/Response_reg.hmm /opt/jupyterhub/shared_notebooks/m-group/ALI/MG_stuff/RR_bioinformatics/TCSplayground/Alignment_Files/Full_RR_Paracoccus_PP_1.fasta\n",
      "Alignment for RR complete!\n",
      "hmmalign -o /opt/jupyterhub/shared_notebooks/m-group/ALI/MG_stuff/RR_bioinformatics/TCSplayground/Alignment_Files/RR_Bartonella_PP_hmmAlign_1.fasta --trim --amino --outformat afa /opt/jupyterhub/shared_notebooks/m-group/ALI/MG_stuff/RR_bioinformatics/TCSplayground/Source_Files/Response_reg.hmm /opt/jupyterhub/shared_notebooks/m-group/ALI/MG_stuff/RR_bioinformatics/TCSplayground/Alignment_Files/Full_RR_Bartonella_PP_1.fasta\n",
      "Alignment for RR complete!\n",
      "hmmalign -o /opt/jupyterhub/shared_notebooks/m-group/ALI/MG_stuff/RR_bioinformatics/TCSplayground/Alignment_Files/RR_Rickettsia_PP_hmmAlign_1.fasta --trim --amino --outformat afa /opt/jupyterhub/shared_notebooks/m-group/ALI/MG_stuff/RR_bioinformatics/TCSplayground/Source_Files/Response_reg.hmm /opt/jupyterhub/shared_notebooks/m-group/ALI/MG_stuff/RR_bioinformatics/TCSplayground/Alignment_Files/Full_RR_Rickettsia_PP_1.fasta\n",
      "Alignment for RR complete!\n",
      "hmmalign -o /opt/jupyterhub/shared_notebooks/m-group/ALI/MG_stuff/RR_bioinformatics/TCSplayground/Alignment_Files/RR_Rhizobium_PP_hmmAlign_1.fasta --trim --amino --outformat afa /opt/jupyterhub/shared_notebooks/m-group/ALI/MG_stuff/RR_bioinformatics/TCSplayground/Source_Files/Response_reg.hmm /opt/jupyterhub/shared_notebooks/m-group/ALI/MG_stuff/RR_bioinformatics/TCSplayground/Alignment_Files/Full_RR_Rhizobium_PP_1.fasta\n",
      "Alignment for RR complete!\n",
      "hmmalign -o /opt/jupyterhub/shared_notebooks/m-group/ALI/MG_stuff/RR_bioinformatics/TCSplayground/Alignment_Files/RR_Acetobacter_PP_hmmAlign_1.fasta --trim --amino --outformat afa /opt/jupyterhub/shared_notebooks/m-group/ALI/MG_stuff/RR_bioinformatics/TCSplayground/Source_Files/Response_reg.hmm /opt/jupyterhub/shared_notebooks/m-group/ALI/MG_stuff/RR_bioinformatics/TCSplayground/Alignment_Files/Full_RR_Acetobacter_PP_1.fasta\n",
      "Alignment for RR complete!\n",
      "hmmalign -o /opt/jupyterhub/shared_notebooks/m-group/ALI/MG_stuff/RR_bioinformatics/TCSplayground/Alignment_Files/RR_Brevundimonas_PP_hmmAlign_1.fasta --trim --amino --outformat afa /opt/jupyterhub/shared_notebooks/m-group/ALI/MG_stuff/RR_bioinformatics/TCSplayground/Source_Files/Response_reg.hmm /opt/jupyterhub/shared_notebooks/m-group/ALI/MG_stuff/RR_bioinformatics/TCSplayground/Alignment_Files/Full_RR_Brevundimonas_PP_1.fasta\n",
      "Alignment for RR complete!\n"
     ]
    }
   ],
   "source": [
    "Databases = DBs + [f\"{DB}_PP\" for DB in DBs]\n",
    "\n",
    "for DB in Databases:\n",
    "    df = pd.read_csv(os.path.join(SampledTCSpath, f\"TCSPlaygound_{DB}DB_{iteration}.csv\"))\n",
    "\n",
    "    Align(df, DBname = DB , TCStypes = [\"RR\"], iteration = iteration)"
   ]
  },
  {
   "cell_type": "code",
   "execution_count": 13,
   "metadata": {},
   "outputs": [
    {
     "data": {
      "text/plain": [
       "Sphingomonas paucimobilis NBRC 13935           1\n",
       "Sphingomonas adhaesiva NBRC 15099              1\n",
       "Sphingomonas panacis                           1\n",
       "Sphingomonas taxi                              1\n",
       "Sphingomonas indica                            1\n",
       "Sphingomonas laterariae                        1\n",
       "Sphingomonas haloaromaticamans                 1\n",
       "Sphingomonas rubra                             1\n",
       "Sphingomonas hankookensis                      1\n",
       "Sphingomonas changbaiensis NBRC 104936         1\n",
       "Sphingomonas astaxanthinifaciens DSM 22298     1\n",
       "Sphingomonas sanxanigenens DSM 19645 = NX02    1\n",
       "Sphingomonas jaspsi DSM 18422                  1\n",
       "Sphingomonas mucosissima                       1\n",
       "Sphingomonas dokdonensis                       1\n",
       "Sphingomonas azotifigens NBRC 15497            1\n",
       "Sphingomonas soli NBRC 100801                  1\n",
       "Sphingomonas phyllosphaerae 5.2                1\n",
       "Sphingomonas wittichii RW1                     1\n",
       "Sphingomonas melonis TY                        1\n",
       "Sphingomonas pituitosa NBRC 102491             1\n",
       "Sphingomonas koreensis                         1\n",
       "Sphingomonas echinoides ATCC 14820             1\n",
       "Sphingomonas pruni NBRC 15498                  1\n",
       "Sphingomonas mali NBRC 15500                   1\n",
       "Sphingomonas hengshuiensis                     1\n",
       "Name: name, dtype: int64"
      ]
     },
     "execution_count": 13,
     "metadata": {},
     "output_type": "execute_result"
    }
   ],
   "source": [
    "Sphingomonas =  Proteobacteria[Proteobacteria.genus ==  \"Sphingomonas\"]\n",
    "Sphingomonas.to_csv(os.path.join(Genomespath, \"SphingomonasGenomesDB.csv\"),index= False)\n",
    "Sphingomonas[\"name\"].value_counts()"
   ]
  },
  {
   "cell_type": "code",
   "execution_count": 17,
   "metadata": {},
   "outputs": [],
   "source": [
    "iteration = 1\n",
    "DB = Sphingomonas\n",
    "DBname = \"Sphingomonas\"\n",
    "\n",
    "df = TCSdomains(DB = DB)\n",
    "\n",
    "df.to_csv(os.path.join(SampledTCSpath, f\"TCSPlaygound_{DBname}DB_{iteration}.csv\"), index = False)\n",
    "DB.to_csv(os.path.join(SampledGenomespath, f\"Sampled{DBname}DB_{iteration}.csv\"), index = False)"
   ]
  },
  {
   "cell_type": "code",
   "execution_count": 32,
   "metadata": {},
   "outputs": [
    {
     "data": {
      "text/plain": [
       "Paracoccus denitrificans PD1222             1\n",
       "Paracoccus alcaliphilus                     1\n",
       "Paracoccus sanguinis                        1\n",
       "Paracoccus sediminis                        1\n",
       "Paracoccus sphaerophysae                    1\n",
       "Paracoccus isoporae                         1\n",
       "Paracoccus chinensis                        1\n",
       "Paracoccus saliphilus                       1\n",
       "Paracoccus halophilus                       1\n",
       "Paracoccus homiensis                        1\n",
       "Paracoccus tibetensis                       1\n",
       "Paracoccus zeaxanthinifaciens ATCC 21588    1\n",
       "Paracoccus seriniphilus                     1\n",
       "Paracoccus yeei                             1\n",
       "Paracoccus alkenifer                        1\n",
       "Paracoccus solventivorans                   1\n",
       "Paracoccus versutus                         1\n",
       "Paracoccus aminovorans                      1\n",
       "Paracoccus aminophilus JCM 7686             1\n",
       "Paracoccus contaminans                      1\n",
       "Name: name, dtype: int64"
      ]
     },
     "execution_count": 32,
     "metadata": {},
     "output_type": "execute_result"
    }
   ],
   "source": [
    "pd.set_option('display.max_rows', 500)\n",
    "\n",
    "Paracoccus =  Proteobacteria[Proteobacteria.genus ==  \"Paracoccus\"]\n",
    "Paracoccus.to_csv(os.path.join(Genomespath, \"ParacoccusGenomesDB.csv\"),index= False)\n",
    "Paracoccus[\"name\"].value_counts()"
   ]
  },
  {
   "cell_type": "code",
   "execution_count": 33,
   "metadata": {},
   "outputs": [
    {
     "name": "stdout",
     "output_type": "stream",
     "text": [
      "RR           549\n",
      "HK           252\n",
      "Hybrid_HK     81\n",
      "Name: TCStype, dtype: int64\n",
      "GCF_001546115.1    62\n",
      "GCF_000763885.1    62\n",
      "GCF_000203895.1    61\n",
      "GCF_900102505.1    60\n",
      "GCF_900110285.1    55\n",
      "GCF_000444995.1    54\n",
      "GCF_002073635.2    52\n",
      "GCF_900199195.1    48\n",
      "GCF_900156835.1    43\n",
      "GCF_900188295.1    41\n",
      "GCF_900142875.1    40\n",
      "GCF_900102885.1    40\n",
      "GCF_900111675.1    39\n",
      "GCF_000420145.1    36\n",
      "GCF_900108405.1    34\n",
      "GCF_000763805.1    33\n",
      "GCF_900106665.1    32\n",
      "GCF_900101865.1    32\n",
      "GCF_000763905.1    30\n",
      "GCF_002105555.1    28\n",
      "Name: version, dtype: int64\n"
     ]
    }
   ],
   "source": [
    "iteration = 1\n",
    "DB = Paracoccus\n",
    "DBname = \"Paracoccus\"\n",
    "\n",
    "df = TCSdomains(DB = DB)\n",
    "\n",
    "df.to_csv(os.path.join(SampledTCSpath, f\"TCSPlaygound_{DBname}DB_{iteration}.csv\"), index = False)\n",
    "DB.to_csv(os.path.join(SampledGenomespath, f\"Sampled{DBname}DB_{iteration}.csv\"), index = False)"
   ]
  },
  {
   "cell_type": "code",
   "execution_count": 121,
   "metadata": {},
   "outputs": [
    {
     "name": "stdout",
     "output_type": "stream",
     "text": [
      "hmmalign -o /opt/jupyterhub/shared_notebooks/m-group/ALI/MG_stuff/RR_bioinformatics/TCSplayground/Alignment_Files/RR_Sphingomonas_hmmAlign_1.fasta --trim --amino --outformat afa /opt/jupyterhub/shared_notebooks/m-group/ALI/MG_stuff/RR_bioinformatics/TCSplayground/Source_Files/Response_reg.hmm /opt/jupyterhub/shared_notebooks/m-group/ALI/MG_stuff/RR_bioinformatics/TCSplayground/Alignment_Files/Full_RR_Sphingomonas_1.fasta\n",
      "Alignment for RR complete!\n",
      "hmmalign -o /opt/jupyterhub/shared_notebooks/m-group/ALI/MG_stuff/RR_bioinformatics/TCSplayground/Alignment_Files/RR_Paracoccus_hmmAlign_1.fasta --trim --amino --outformat afa /opt/jupyterhub/shared_notebooks/m-group/ALI/MG_stuff/RR_bioinformatics/TCSplayground/Source_Files/Response_reg.hmm /opt/jupyterhub/shared_notebooks/m-group/ALI/MG_stuff/RR_bioinformatics/TCSplayground/Alignment_Files/Full_RR_Paracoccus_1.fasta\n",
      "Alignment for RR complete!\n",
      "hmmalign -o /opt/jupyterhub/shared_notebooks/m-group/ALI/MG_stuff/RR_bioinformatics/TCSplayground/Alignment_Files/RR_Bartonella_hmmAlign_1.fasta --trim --amino --outformat afa /opt/jupyterhub/shared_notebooks/m-group/ALI/MG_stuff/RR_bioinformatics/TCSplayground/Source_Files/Response_reg.hmm /opt/jupyterhub/shared_notebooks/m-group/ALI/MG_stuff/RR_bioinformatics/TCSplayground/Alignment_Files/Full_RR_Bartonella_1.fasta\n",
      "Alignment for RR complete!\n",
      "hmmalign -o /opt/jupyterhub/shared_notebooks/m-group/ALI/MG_stuff/RR_bioinformatics/TCSplayground/Alignment_Files/RR_Rickettsia_hmmAlign_1.fasta --trim --amino --outformat afa /opt/jupyterhub/shared_notebooks/m-group/ALI/MG_stuff/RR_bioinformatics/TCSplayground/Source_Files/Response_reg.hmm /opt/jupyterhub/shared_notebooks/m-group/ALI/MG_stuff/RR_bioinformatics/TCSplayground/Alignment_Files/Full_RR_Rickettsia_1.fasta\n",
      "Alignment for RR complete!\n",
      "hmmalign -o /opt/jupyterhub/shared_notebooks/m-group/ALI/MG_stuff/RR_bioinformatics/TCSplayground/Alignment_Files/RR_Rhizobium_hmmAlign_1.fasta --trim --amino --outformat afa /opt/jupyterhub/shared_notebooks/m-group/ALI/MG_stuff/RR_bioinformatics/TCSplayground/Source_Files/Response_reg.hmm /opt/jupyterhub/shared_notebooks/m-group/ALI/MG_stuff/RR_bioinformatics/TCSplayground/Alignment_Files/Full_RR_Rhizobium_1.fasta\n",
      "Alignment for RR complete!\n",
      "hmmalign -o /opt/jupyterhub/shared_notebooks/m-group/ALI/MG_stuff/RR_bioinformatics/TCSplayground/Alignment_Files/RR_Acetobacter_hmmAlign_1.fasta --trim --amino --outformat afa /opt/jupyterhub/shared_notebooks/m-group/ALI/MG_stuff/RR_bioinformatics/TCSplayground/Source_Files/Response_reg.hmm /opt/jupyterhub/shared_notebooks/m-group/ALI/MG_stuff/RR_bioinformatics/TCSplayground/Alignment_Files/Full_RR_Acetobacter_1.fasta\n",
      "Alignment for RR complete!\n",
      "hmmalign -o /opt/jupyterhub/shared_notebooks/m-group/ALI/MG_stuff/RR_bioinformatics/TCSplayground/Alignment_Files/RR_Brevundimonas_hmmAlign_1.fasta --trim --amino --outformat afa /opt/jupyterhub/shared_notebooks/m-group/ALI/MG_stuff/RR_bioinformatics/TCSplayground/Source_Files/Response_reg.hmm /opt/jupyterhub/shared_notebooks/m-group/ALI/MG_stuff/RR_bioinformatics/TCSplayground/Alignment_Files/Full_RR_Brevundimonas_1.fasta\n",
      "Alignment for RR complete!\n",
      "hmmalign -o /opt/jupyterhub/shared_notebooks/m-group/ALI/MG_stuff/RR_bioinformatics/TCSplayground/Alignment_Files/RR_Sphingomonas_PP_hmmAlign_1.fasta --trim --amino --outformat afa /opt/jupyterhub/shared_notebooks/m-group/ALI/MG_stuff/RR_bioinformatics/TCSplayground/Source_Files/Response_reg.hmm /opt/jupyterhub/shared_notebooks/m-group/ALI/MG_stuff/RR_bioinformatics/TCSplayground/Alignment_Files/Full_RR_Sphingomonas_PP_1.fasta\n",
      "Alignment for RR complete!\n",
      "hmmalign -o /opt/jupyterhub/shared_notebooks/m-group/ALI/MG_stuff/RR_bioinformatics/TCSplayground/Alignment_Files/RR_Paracoccus_PP_hmmAlign_1.fasta --trim --amino --outformat afa /opt/jupyterhub/shared_notebooks/m-group/ALI/MG_stuff/RR_bioinformatics/TCSplayground/Source_Files/Response_reg.hmm /opt/jupyterhub/shared_notebooks/m-group/ALI/MG_stuff/RR_bioinformatics/TCSplayground/Alignment_Files/Full_RR_Paracoccus_PP_1.fasta\n",
      "Alignment for RR complete!\n",
      "hmmalign -o /opt/jupyterhub/shared_notebooks/m-group/ALI/MG_stuff/RR_bioinformatics/TCSplayground/Alignment_Files/RR_Bartonella_PP_hmmAlign_1.fasta --trim --amino --outformat afa /opt/jupyterhub/shared_notebooks/m-group/ALI/MG_stuff/RR_bioinformatics/TCSplayground/Source_Files/Response_reg.hmm /opt/jupyterhub/shared_notebooks/m-group/ALI/MG_stuff/RR_bioinformatics/TCSplayground/Alignment_Files/Full_RR_Bartonella_PP_1.fasta\n",
      "Alignment for RR complete!\n",
      "hmmalign -o /opt/jupyterhub/shared_notebooks/m-group/ALI/MG_stuff/RR_bioinformatics/TCSplayground/Alignment_Files/RR_Rickettsia_PP_hmmAlign_1.fasta --trim --amino --outformat afa /opt/jupyterhub/shared_notebooks/m-group/ALI/MG_stuff/RR_bioinformatics/TCSplayground/Source_Files/Response_reg.hmm /opt/jupyterhub/shared_notebooks/m-group/ALI/MG_stuff/RR_bioinformatics/TCSplayground/Alignment_Files/Full_RR_Rickettsia_PP_1.fasta\n",
      "Alignment for RR complete!\n",
      "hmmalign -o /opt/jupyterhub/shared_notebooks/m-group/ALI/MG_stuff/RR_bioinformatics/TCSplayground/Alignment_Files/RR_Rhizobium_PP_hmmAlign_1.fasta --trim --amino --outformat afa /opt/jupyterhub/shared_notebooks/m-group/ALI/MG_stuff/RR_bioinformatics/TCSplayground/Source_Files/Response_reg.hmm /opt/jupyterhub/shared_notebooks/m-group/ALI/MG_stuff/RR_bioinformatics/TCSplayground/Alignment_Files/Full_RR_Rhizobium_PP_1.fasta\n",
      "Alignment for RR complete!\n",
      "hmmalign -o /opt/jupyterhub/shared_notebooks/m-group/ALI/MG_stuff/RR_bioinformatics/TCSplayground/Alignment_Files/RR_Acetobacter_PP_hmmAlign_1.fasta --trim --amino --outformat afa /opt/jupyterhub/shared_notebooks/m-group/ALI/MG_stuff/RR_bioinformatics/TCSplayground/Source_Files/Response_reg.hmm /opt/jupyterhub/shared_notebooks/m-group/ALI/MG_stuff/RR_bioinformatics/TCSplayground/Alignment_Files/Full_RR_Acetobacter_PP_1.fasta\n",
      "Alignment for RR complete!\n",
      "hmmalign -o /opt/jupyterhub/shared_notebooks/m-group/ALI/MG_stuff/RR_bioinformatics/TCSplayground/Alignment_Files/RR_Brevundimonas_PP_hmmAlign_1.fasta --trim --amino --outformat afa /opt/jupyterhub/shared_notebooks/m-group/ALI/MG_stuff/RR_bioinformatics/TCSplayground/Source_Files/Response_reg.hmm /opt/jupyterhub/shared_notebooks/m-group/ALI/MG_stuff/RR_bioinformatics/TCSplayground/Alignment_Files/Full_RR_Brevundimonas_PP_1.fasta\n",
      "Alignment for RR complete!\n"
     ]
    }
   ],
   "source": [
    "DBs = [\"Sphingomonas\", \"Paracoccus\",\"Bartonella\", \"Rickettsia\",\"Rhizobium\",\"Acetobacter\", \"Brevundimonas\" ]\n",
    "\n",
    "\n",
    "DBs = DBs + [f\"{DB}_PP\" for DB in DBs]\n",
    "\n",
    "for DB in DBs:\n",
    "    df = pd.read_csv(os.path.join(SampledTCSpath, f\"TCSPlaygound_{DB}DB_{iteration}.csv\".format()))\n",
    "\n",
    "    Align(df, DBname = DB , TCStypes = [\"RR\"], iteration = iteration)"
   ]
  },
  {
   "cell_type": "markdown",
   "metadata": {},
   "source": [
    "### Concatenate Sphingomonas and Parracoccus databases with Pseudomonas Putida KT220 for cluster annotation"
   ]
  },
  {
   "cell_type": "code",
   "execution_count": 58,
   "metadata": {},
   "outputs": [],
   "source": [
    "dfPseudmonas = pd.read_csv(os.path.join(SampledTCSpath, f\"TCSPlaygound_PseudomonasDB_3.csv\"))\n",
    "dfPseudmonas.head()\n",
    "dfPP = dfPseudmonas[dfPseudmonas[\"stable_id\"].str.contains(\"PP\")]     "
   ]
  },
  {
   "cell_type": "code",
   "execution_count": 74,
   "metadata": {},
   "outputs": [],
   "source": [
    "dfPP_Para = pd.concat([df, dfPP])\n",
    "dfPP_Para.to_csv(os.path.join(SampledTCSpath, f\"TCSPlaygound_Parracoccus_PPDB_{iteration}.csv\"), index = False)\n",
    "Bacteria[Bacteria[\"version\"].isin(dfPP_Para[\"version\"].unique())].to_csv(os.path.join(Genomespath, f\"Parracoccus_PPGenomesDB.csv\"), index = False)\n",
    "\n",
    "\n"
   ]
  },
  {
   "cell_type": "code",
   "execution_count": 75,
   "metadata": {},
   "outputs": [
    {
     "name": "stdout",
     "output_type": "stream",
     "text": [
      "hmmalign -o /opt/jupyterhub/shared_notebooks/m-group/ALI/MG_stuff/RR_bioinformatics/TCSplayground/Alignment_Files/RR_Parracoccus_PP_hmmAlign_1.fasta --trim --amino --outformat afa /opt/jupyterhub/shared_notebooks/m-group/ALI/MG_stuff/RR_bioinformatics/TCSplayground/Source_Files/Response_reg.hmm /opt/jupyterhub/shared_notebooks/m-group/ALI/MG_stuff/RR_bioinformatics/TCSplayground/Alignment_Files/Full_RR_Parracoccus_PP_1.fasta\n",
      "Alignment for RR complete!\n"
     ]
    },
    {
     "data": {
      "text/html": [
       "<div>\n",
       "<style scoped>\n",
       "    .dataframe tbody tr th:only-of-type {\n",
       "        vertical-align: middle;\n",
       "    }\n",
       "\n",
       "    .dataframe tbody tr th {\n",
       "        vertical-align: top;\n",
       "    }\n",
       "\n",
       "    .dataframe thead th {\n",
       "        text-align: right;\n",
       "    }\n",
       "</style>\n",
       "<table border=\"1\" class=\"dataframe\">\n",
       "  <thead>\n",
       "    <tr style=\"text-align: right;\">\n",
       "      <th></th>\n",
       "      <th>TCStype</th>\n",
       "      <th>aseq_id</th>\n",
       "      <th>domain_counts</th>\n",
       "      <th>domain_seq</th>\n",
       "      <th>env_from</th>\n",
       "      <th>env_to</th>\n",
       "      <th>gene_id</th>\n",
       "      <th>sequence</th>\n",
       "      <th>stable_id</th>\n",
       "      <th>version</th>\n",
       "    </tr>\n",
       "  </thead>\n",
       "  <tbody>\n",
       "    <tr>\n",
       "      <th>0</th>\n",
       "      <td>Hybrid_HK</td>\n",
       "      <td>_K908nnV_iMo8cSO4ecVxQ</td>\n",
       "      <td>{'RR': 2, 'GAF': 1, 'PAS': 3, 'HK_CA': 1}</td>\n",
       "      <td>KSQFIANMSHELRTPLSAIIGYAELLEEEAADLGDAGGNMAEDLSK...</td>\n",
       "      <td>619</td>\n",
       "      <td>846</td>\n",
       "      <td>21453361</td>\n",
       "      <td>MASLLRAVTIALRGAACRGQIVPITPARRNGRPRSGLRRAATPLPH...</td>\n",
       "      <td>GCF_002105555.1-B0A89_RS14450</td>\n",
       "      <td>GCF_002105555.1</td>\n",
       "    </tr>\n",
       "    <tr>\n",
       "      <th>1</th>\n",
       "      <td>RR</td>\n",
       "      <td>BQDSZQjfyIj0CdYmpusHhw</td>\n",
       "      <td>{'RR': 1}</td>\n",
       "      <td>LLVEDTPEIWDFLSRRLARRGHEVALAHDGQAGLDAAQAAPPQVIL...</td>\n",
       "      <td>4</td>\n",
       "      <td>116</td>\n",
       "      <td>21453360</td>\n",
       "      <td>MAKLLLVEDTPEIWDFLSRRLARRGHEVALAHDGQAGLDAAQAAPP...</td>\n",
       "      <td>GCF_002105555.1-B0A89_RS14445</td>\n",
       "      <td>GCF_002105555.1</td>\n",
       "    </tr>\n",
       "    <tr>\n",
       "      <th>2</th>\n",
       "      <td>RR</td>\n",
       "      <td>QR6Sr-8mAJi8F4g17GR2Sg</td>\n",
       "      <td>{'RR': 1, 'Trans_reg_C': 1}</td>\n",
       "      <td>LVVEDAPDVADAVARSGARLGWAVDCAPTLADGEAALATHDYDLAI...</td>\n",
       "      <td>3</td>\n",
       "      <td>113</td>\n",
       "      <td>21453313</td>\n",
       "      <td>MRILVVEDAPDVADAVARSGARLGWAVDCAPTLADGEAALATHDYD...</td>\n",
       "      <td>GCF_002105555.1-B0A89_RS14210</td>\n",
       "      <td>GCF_002105555.1</td>\n",
       "    </tr>\n",
       "    <tr>\n",
       "      <th>3</th>\n",
       "      <td>RR</td>\n",
       "      <td>Ft2RHY5neXBeYBG5aGvNRA</td>\n",
       "      <td>{'RR': 1, 'Trans_reg_C': 1}</td>\n",
       "      <td>LIVEDDPILSGQIAAAMRQGGFVADIANDGAQAEFMGMTETYDVAI...</td>\n",
       "      <td>3</td>\n",
       "      <td>113</td>\n",
       "      <td>21453129</td>\n",
       "      <td>MRCLIVEDDPILSGQIAAAMRQGGFVADIANDGAQAEFMGMTETYD...</td>\n",
       "      <td>GCF_002105555.1-B0A89_RS13290</td>\n",
       "      <td>GCF_002105555.1</td>\n",
       "    </tr>\n",
       "    <tr>\n",
       "      <th>4</th>\n",
       "      <td>RR</td>\n",
       "      <td>7Ry3msPUb7czrnQLjXqA2g</td>\n",
       "      <td>{'RR': 1, 'Trans_reg_C': 1}</td>\n",
       "      <td>LLVEDEGVQREVLTYNLDAEGFRVVSAETGDEALLLVAEESPDLVL...</td>\n",
       "      <td>8</td>\n",
       "      <td>120</td>\n",
       "      <td>21452794</td>\n",
       "      <td>MSAQQPCVLLVEDEGVQREVLTYNLDAEGFRVVSAETGDEALLLVA...</td>\n",
       "      <td>GCF_002105555.1-B0A89_RS11615</td>\n",
       "      <td>GCF_002105555.1</td>\n",
       "    </tr>\n",
       "    <tr>\n",
       "      <th>...</th>\n",
       "      <td>...</td>\n",
       "      <td>...</td>\n",
       "      <td>...</td>\n",
       "      <td>...</td>\n",
       "      <td>...</td>\n",
       "      <td>...</td>\n",
       "      <td>...</td>\n",
       "      <td>...</td>\n",
       "      <td>...</td>\n",
       "      <td>...</td>\n",
       "    </tr>\n",
       "    <tr>\n",
       "      <th>4611</th>\n",
       "      <td>HK</td>\n",
       "      <td>vEwNS7GYcG9KfogH_N4H7A</td>\n",
       "      <td>{'PAS': 1, 'HAMP': 1, 'HK_CA': 1, 'KinB_sensor...</td>\n",
       "      <td>RSEFVLRASHELRTPVTGMHMAFGLLRERVKFPPEARENDLLETIG...</td>\n",
       "      <td>373</td>\n",
       "      <td>593</td>\n",
       "      <td>1098212</td>\n",
       "      <td>MKWPPMKLRTRLFLSISTLVTVALLGLLLGLVSMLQMATVQQRLVR...</td>\n",
       "      <td>GCF_000007565.2-PP_0132</td>\n",
       "      <td>GCF_000007565.2</td>\n",
       "    </tr>\n",
       "    <tr>\n",
       "      <th>4612</th>\n",
       "      <td>RR</td>\n",
       "      <td>LL7_ZQRZvNWIpNM6VW59YA</td>\n",
       "      <td>{'RR': 1, 'Trans_reg_C': 1}</td>\n",
       "      <td>LVIEDEVKTAEYVRQGLTECGYVVDCVHTGSDGLFLAKQHEYELII...</td>\n",
       "      <td>3</td>\n",
       "      <td>113</td>\n",
       "      <td>1098122</td>\n",
       "      <td>MRILVIEDEVKTAEYVRQGLTECGYVVDCVHTGSDGLFLAKQHEYE...</td>\n",
       "      <td>GCF_000007565.2-PP_0047</td>\n",
       "      <td>GCF_000007565.2</td>\n",
       "    </tr>\n",
       "    <tr>\n",
       "      <th>4613</th>\n",
       "      <td>RR</td>\n",
       "      <td>ggTWR_WuSmes2mWHd95rig</td>\n",
       "      <td>{'RR': 1}</td>\n",
       "      <td>LVVDDNAVNREALILYLKSRGIDAVGADGAEEARLYLHYQKRIGLM...</td>\n",
       "      <td>71</td>\n",
       "      <td>183</td>\n",
       "      <td>1098463</td>\n",
       "      <td>MVPIGRKSMSALVKDPTKGETGYASNAVLMLKRNFFDEMSMPEHTD...</td>\n",
       "      <td>GCF_000007565.2-PP_0355</td>\n",
       "      <td>GCF_000007565.2</td>\n",
       "    </tr>\n",
       "    <tr>\n",
       "      <th>4614</th>\n",
       "      <td>HK</td>\n",
       "      <td>BoHZ-LqfrwJDgV9bfWfjJQ</td>\n",
       "      <td>{'HK_CA': 1}</td>\n",
       "      <td>LSQFSDDLAHELRAPLSNLMGKAQVALTRERSLSEYREVLESCTEE...</td>\n",
       "      <td>241</td>\n",
       "      <td>463</td>\n",
       "      <td>1098106</td>\n",
       "      <td>MRPFSLAAKLGLKVGLMSAALLLLFATFGYLMVGKALERNARADLE...</td>\n",
       "      <td>GCF_000007565.2-PP_0030</td>\n",
       "      <td>GCF_000007565.2</td>\n",
       "    </tr>\n",
       "    <tr>\n",
       "      <th>4615</th>\n",
       "      <td>RR</td>\n",
       "      <td>8LWkGRDA1AubSuzGYH492g</td>\n",
       "      <td>{'RR': 1, 'Trans_reg_C': 1}</td>\n",
       "      <td>LVVEDEIKTAEYLQQGLSESGYVVDIVHNGVDALHLFNTNVYSLVL...</td>\n",
       "      <td>3</td>\n",
       "      <td>112</td>\n",
       "      <td>1098105</td>\n",
       "      <td>MRVLVVEDEIKTAEYLQQGLSESGYVVDIVHNGVDALHLFNTNVYS...</td>\n",
       "      <td>GCF_000007565.2-PP_0029</td>\n",
       "      <td>GCF_000007565.2</td>\n",
       "    </tr>\n",
       "  </tbody>\n",
       "</table>\n",
       "<p>1011 rows × 10 columns</p>\n",
       "</div>"
      ],
      "text/plain": [
       "        TCStype                 aseq_id  \\\n",
       "0     Hybrid_HK  _K908nnV_iMo8cSO4ecVxQ   \n",
       "1            RR  BQDSZQjfyIj0CdYmpusHhw   \n",
       "2            RR  QR6Sr-8mAJi8F4g17GR2Sg   \n",
       "3            RR  Ft2RHY5neXBeYBG5aGvNRA   \n",
       "4            RR  7Ry3msPUb7czrnQLjXqA2g   \n",
       "...         ...                     ...   \n",
       "4611         HK  vEwNS7GYcG9KfogH_N4H7A   \n",
       "4612         RR  LL7_ZQRZvNWIpNM6VW59YA   \n",
       "4613         RR  ggTWR_WuSmes2mWHd95rig   \n",
       "4614         HK  BoHZ-LqfrwJDgV9bfWfjJQ   \n",
       "4615         RR  8LWkGRDA1AubSuzGYH492g   \n",
       "\n",
       "                                          domain_counts  \\\n",
       "0             {'RR': 2, 'GAF': 1, 'PAS': 3, 'HK_CA': 1}   \n",
       "1                                             {'RR': 1}   \n",
       "2                           {'RR': 1, 'Trans_reg_C': 1}   \n",
       "3                           {'RR': 1, 'Trans_reg_C': 1}   \n",
       "4                           {'RR': 1, 'Trans_reg_C': 1}   \n",
       "...                                                 ...   \n",
       "4611  {'PAS': 1, 'HAMP': 1, 'HK_CA': 1, 'KinB_sensor...   \n",
       "4612                        {'RR': 1, 'Trans_reg_C': 1}   \n",
       "4613                                          {'RR': 1}   \n",
       "4614                                       {'HK_CA': 1}   \n",
       "4615                        {'RR': 1, 'Trans_reg_C': 1}   \n",
       "\n",
       "                                             domain_seq  env_from  env_to  \\\n",
       "0     KSQFIANMSHELRTPLSAIIGYAELLEEEAADLGDAGGNMAEDLSK...       619     846   \n",
       "1     LLVEDTPEIWDFLSRRLARRGHEVALAHDGQAGLDAAQAAPPQVIL...         4     116   \n",
       "2     LVVEDAPDVADAVARSGARLGWAVDCAPTLADGEAALATHDYDLAI...         3     113   \n",
       "3     LIVEDDPILSGQIAAAMRQGGFVADIANDGAQAEFMGMTETYDVAI...         3     113   \n",
       "4     LLVEDEGVQREVLTYNLDAEGFRVVSAETGDEALLLVAEESPDLVL...         8     120   \n",
       "...                                                 ...       ...     ...   \n",
       "4611  RSEFVLRASHELRTPVTGMHMAFGLLRERVKFPPEARENDLLETIG...       373     593   \n",
       "4612  LVIEDEVKTAEYVRQGLTECGYVVDCVHTGSDGLFLAKQHEYELII...         3     113   \n",
       "4613  LVVDDNAVNREALILYLKSRGIDAVGADGAEEARLYLHYQKRIGLM...        71     183   \n",
       "4614  LSQFSDDLAHELRAPLSNLMGKAQVALTRERSLSEYREVLESCTEE...       241     463   \n",
       "4615  LVVEDEIKTAEYLQQGLSESGYVVDIVHNGVDALHLFNTNVYSLVL...         3     112   \n",
       "\n",
       "       gene_id                                           sequence  \\\n",
       "0     21453361  MASLLRAVTIALRGAACRGQIVPITPARRNGRPRSGLRRAATPLPH...   \n",
       "1     21453360  MAKLLLVEDTPEIWDFLSRRLARRGHEVALAHDGQAGLDAAQAAPP...   \n",
       "2     21453313  MRILVVEDAPDVADAVARSGARLGWAVDCAPTLADGEAALATHDYD...   \n",
       "3     21453129  MRCLIVEDDPILSGQIAAAMRQGGFVADIANDGAQAEFMGMTETYD...   \n",
       "4     21452794  MSAQQPCVLLVEDEGVQREVLTYNLDAEGFRVVSAETGDEALLLVA...   \n",
       "...        ...                                                ...   \n",
       "4611   1098212  MKWPPMKLRTRLFLSISTLVTVALLGLLLGLVSMLQMATVQQRLVR...   \n",
       "4612   1098122  MRILVIEDEVKTAEYVRQGLTECGYVVDCVHTGSDGLFLAKQHEYE...   \n",
       "4613   1098463  MVPIGRKSMSALVKDPTKGETGYASNAVLMLKRNFFDEMSMPEHTD...   \n",
       "4614   1098106  MRPFSLAAKLGLKVGLMSAALLLLFATFGYLMVGKALERNARADLE...   \n",
       "4615   1098105  MRVLVVEDEIKTAEYLQQGLSESGYVVDIVHNGVDALHLFNTNVYS...   \n",
       "\n",
       "                          stable_id          version  \n",
       "0     GCF_002105555.1-B0A89_RS14450  GCF_002105555.1  \n",
       "1     GCF_002105555.1-B0A89_RS14445  GCF_002105555.1  \n",
       "2     GCF_002105555.1-B0A89_RS14210  GCF_002105555.1  \n",
       "3     GCF_002105555.1-B0A89_RS13290  GCF_002105555.1  \n",
       "4     GCF_002105555.1-B0A89_RS11615  GCF_002105555.1  \n",
       "...                             ...              ...  \n",
       "4611        GCF_000007565.2-PP_0132  GCF_000007565.2  \n",
       "4612        GCF_000007565.2-PP_0047  GCF_000007565.2  \n",
       "4613        GCF_000007565.2-PP_0355  GCF_000007565.2  \n",
       "4614        GCF_000007565.2-PP_0030  GCF_000007565.2  \n",
       "4615        GCF_000007565.2-PP_0029  GCF_000007565.2  \n",
       "\n",
       "[1011 rows x 10 columns]"
      ]
     },
     "execution_count": 75,
     "metadata": {},
     "output_type": "execute_result"
    }
   ],
   "source": [
    "Align(dfPP_Para, DBname = \"Parracoccus_PP\" , TCStypes = [\"RR\"], iteration = iteration)"
   ]
  },
  {
   "cell_type": "code",
   "execution_count": 81,
   "metadata": {},
   "outputs": [],
   "source": [
    "dfSphing = pd.read_csv(os.path.join(SampledTCSpath, f\"TCSPlaygound_SphingomonasDB_1.csv\"), index_col = False)\n",
    "dfPP_Sphing = pd.concat([dfSphing, dfPP])\n",
    "dfPP_Sphing\n",
    "dfPP_Sphing.to_csv(os.path.join(SampledTCSpath, f\"TCSPlaygound_Sphingomonas_PPDB_{iteration}.csv\"), index = False)\n",
    "Bacteria[Bacteria[\"version\"].isin(dfPP_Para[\"version\"].unique())].to_csv(os.path.join(Genomespath, f\"Sphingomonas_PPGenomesDB.csv\"), index = False)\n"
   ]
  },
  {
   "cell_type": "code",
   "execution_count": 82,
   "metadata": {},
   "outputs": [
    {
     "name": "stdout",
     "output_type": "stream",
     "text": [
      "hmmalign -o /opt/jupyterhub/shared_notebooks/m-group/ALI/MG_stuff/RR_bioinformatics/TCSplayground/Alignment_Files/RR_Sphingomonas_PP_hmmAlign_1.fasta --trim --amino --outformat afa /opt/jupyterhub/shared_notebooks/m-group/ALI/MG_stuff/RR_bioinformatics/TCSplayground/Source_Files/Response_reg.hmm /opt/jupyterhub/shared_notebooks/m-group/ALI/MG_stuff/RR_bioinformatics/TCSplayground/Alignment_Files/Full_RR_Sphingomonas_PP_1.fasta\n",
      "Alignment for RR complete!\n"
     ]
    },
    {
     "data": {
      "text/html": [
       "<div>\n",
       "<style scoped>\n",
       "    .dataframe tbody tr th:only-of-type {\n",
       "        vertical-align: middle;\n",
       "    }\n",
       "\n",
       "    .dataframe tbody tr th {\n",
       "        vertical-align: top;\n",
       "    }\n",
       "\n",
       "    .dataframe thead th {\n",
       "        text-align: right;\n",
       "    }\n",
       "</style>\n",
       "<table border=\"1\" class=\"dataframe\">\n",
       "  <thead>\n",
       "    <tr style=\"text-align: right;\">\n",
       "      <th></th>\n",
       "      <th>TCStype</th>\n",
       "      <th>aseq_id</th>\n",
       "      <th>domain_counts</th>\n",
       "      <th>domain_seq</th>\n",
       "      <th>env_from</th>\n",
       "      <th>env_to</th>\n",
       "      <th>gene_id</th>\n",
       "      <th>sequence</th>\n",
       "      <th>stable_id</th>\n",
       "      <th>version</th>\n",
       "    </tr>\n",
       "  </thead>\n",
       "  <tbody>\n",
       "    <tr>\n",
       "      <th>0</th>\n",
       "      <td>RR</td>\n",
       "      <td>GMKDLMVzJKukp_WWlfgtyQ</td>\n",
       "      <td>{'RR': 1, 'LytTR': 1}</td>\n",
       "      <td>ILVDDEPLAIQGLELRLQEHEDVEIIDKCSNGREAIRAIKTHKPDL...</td>\n",
       "      <td>5</td>\n",
       "      <td>114</td>\n",
       "      <td>20484531</td>\n",
       "      <td>MTIRTILVDDEPLAIQGLELRLQEHEDVEIIDKCSNGREAIRAIKT...</td>\n",
       "      <td>GCF_000935025.1-TS85_RS23315</td>\n",
       "      <td>GCF_000935025.1</td>\n",
       "    </tr>\n",
       "    <tr>\n",
       "      <th>1</th>\n",
       "      <td>RR</td>\n",
       "      <td>LUKvtANh7rvr6FdGbXESNQ</td>\n",
       "      <td>{'RR': 1, 'HTH_8': 1, 'Sigma54_activat': 1}</td>\n",
       "      <td>LIVEDDAGLQRQLRWAYEGYQIHSATDRDEAIALVRAEEPQVVTLD...</td>\n",
       "      <td>7</td>\n",
       "      <td>120</td>\n",
       "      <td>20484138</td>\n",
       "      <td>MTAVRKLLIVEDDAGLQRQLRWAYEGYQIHSATDRDEAIALVRAEE...</td>\n",
       "      <td>GCF_000935025.1-TS85_RS21370</td>\n",
       "      <td>GCF_000935025.1</td>\n",
       "    </tr>\n",
       "    <tr>\n",
       "      <th>2</th>\n",
       "      <td>RR</td>\n",
       "      <td>HBu_ldCCQHpSqa74w0NUZg</td>\n",
       "      <td>{'RR': 1, 'GerE': 1}</td>\n",
       "      <td>LTVDDHAMVRDGVTALLARQPDMEAVGEAADGKEAIAQFRALAPDI...</td>\n",
       "      <td>12</td>\n",
       "      <td>124</td>\n",
       "      <td>20484587</td>\n",
       "      <td>MAEDSERTPIRVLTVDDHAMVRDGVTALLARQPDMEAVGEAADGKE...</td>\n",
       "      <td>GCF_000935025.1-TS85_RS23590</td>\n",
       "      <td>GCF_000935025.1</td>\n",
       "    </tr>\n",
       "    <tr>\n",
       "      <th>3</th>\n",
       "      <td>Hybrid_HK</td>\n",
       "      <td>lb4OsLpg-Ll0uukqKnXlzA</td>\n",
       "      <td>{'RR': 1, 'HK_CA': 1}</td>\n",
       "      <td>LGQLTGGVAHDFNNLLTPITGALDLLQNKYASIDPRSGRLIANALL...</td>\n",
       "      <td>154</td>\n",
       "      <td>382</td>\n",
       "      <td>20484584</td>\n",
       "      <td>MLQEARLHCTIAADLEALTKHVDQGAGFALATEEALTGPGLATLQR...</td>\n",
       "      <td>GCF_000935025.1-TS85_RS23575</td>\n",
       "      <td>GCF_000935025.1</td>\n",
       "    </tr>\n",
       "    <tr>\n",
       "      <th>4</th>\n",
       "      <td>RR</td>\n",
       "      <td>eyZzgHre-dvqB1eEQi9AdQ</td>\n",
       "      <td>{'RR': 1, 'Trans_reg_C': 1}</td>\n",
       "      <td>LIVEDEPNLGQQLRNALEGAGYAVDLATDGEEGHFLGSTEQYDAIL...</td>\n",
       "      <td>3</td>\n",
       "      <td>113</td>\n",
       "      <td>20484131</td>\n",
       "      <td>MRLLIVEDEPNLGQQLRNALEGAGYAVDLATDGEEGHFLGSTEQYD...</td>\n",
       "      <td>GCF_000935025.1-TS85_RS21335</td>\n",
       "      <td>GCF_000935025.1</td>\n",
       "    </tr>\n",
       "    <tr>\n",
       "      <th>...</th>\n",
       "      <td>...</td>\n",
       "      <td>...</td>\n",
       "      <td>...</td>\n",
       "      <td>...</td>\n",
       "      <td>...</td>\n",
       "      <td>...</td>\n",
       "      <td>...</td>\n",
       "      <td>...</td>\n",
       "      <td>...</td>\n",
       "      <td>...</td>\n",
       "    </tr>\n",
       "    <tr>\n",
       "      <th>4611</th>\n",
       "      <td>HK</td>\n",
       "      <td>vEwNS7GYcG9KfogH_N4H7A</td>\n",
       "      <td>{'PAS': 1, 'HAMP': 1, 'HK_CA': 1, 'KinB_sensor...</td>\n",
       "      <td>RSEFVLRASHELRTPVTGMHMAFGLLRERVKFPPEARENDLLETIG...</td>\n",
       "      <td>373</td>\n",
       "      <td>593</td>\n",
       "      <td>1098212</td>\n",
       "      <td>MKWPPMKLRTRLFLSISTLVTVALLGLLLGLVSMLQMATVQQRLVR...</td>\n",
       "      <td>GCF_000007565.2-PP_0132</td>\n",
       "      <td>GCF_000007565.2</td>\n",
       "    </tr>\n",
       "    <tr>\n",
       "      <th>4612</th>\n",
       "      <td>RR</td>\n",
       "      <td>LL7_ZQRZvNWIpNM6VW59YA</td>\n",
       "      <td>{'RR': 1, 'Trans_reg_C': 1}</td>\n",
       "      <td>LVIEDEVKTAEYVRQGLTECGYVVDCVHTGSDGLFLAKQHEYELII...</td>\n",
       "      <td>3</td>\n",
       "      <td>113</td>\n",
       "      <td>1098122</td>\n",
       "      <td>MRILVIEDEVKTAEYVRQGLTECGYVVDCVHTGSDGLFLAKQHEYE...</td>\n",
       "      <td>GCF_000007565.2-PP_0047</td>\n",
       "      <td>GCF_000007565.2</td>\n",
       "    </tr>\n",
       "    <tr>\n",
       "      <th>4613</th>\n",
       "      <td>RR</td>\n",
       "      <td>ggTWR_WuSmes2mWHd95rig</td>\n",
       "      <td>{'RR': 1}</td>\n",
       "      <td>LVVDDNAVNREALILYLKSRGIDAVGADGAEEARLYLHYQKRIGLM...</td>\n",
       "      <td>71</td>\n",
       "      <td>183</td>\n",
       "      <td>1098463</td>\n",
       "      <td>MVPIGRKSMSALVKDPTKGETGYASNAVLMLKRNFFDEMSMPEHTD...</td>\n",
       "      <td>GCF_000007565.2-PP_0355</td>\n",
       "      <td>GCF_000007565.2</td>\n",
       "    </tr>\n",
       "    <tr>\n",
       "      <th>4614</th>\n",
       "      <td>HK</td>\n",
       "      <td>BoHZ-LqfrwJDgV9bfWfjJQ</td>\n",
       "      <td>{'HK_CA': 1}</td>\n",
       "      <td>LSQFSDDLAHELRAPLSNLMGKAQVALTRERSLSEYREVLESCTEE...</td>\n",
       "      <td>241</td>\n",
       "      <td>463</td>\n",
       "      <td>1098106</td>\n",
       "      <td>MRPFSLAAKLGLKVGLMSAALLLLFATFGYLMVGKALERNARADLE...</td>\n",
       "      <td>GCF_000007565.2-PP_0030</td>\n",
       "      <td>GCF_000007565.2</td>\n",
       "    </tr>\n",
       "    <tr>\n",
       "      <th>4615</th>\n",
       "      <td>RR</td>\n",
       "      <td>8LWkGRDA1AubSuzGYH492g</td>\n",
       "      <td>{'RR': 1, 'Trans_reg_C': 1}</td>\n",
       "      <td>LVVEDEIKTAEYLQQGLSESGYVVDIVHNGVDALHLFNTNVYSLVL...</td>\n",
       "      <td>3</td>\n",
       "      <td>112</td>\n",
       "      <td>1098105</td>\n",
       "      <td>MRVLVVEDEIKTAEYLQQGLSESGYVVDIVHNGVDALHLFNTNVYS...</td>\n",
       "      <td>GCF_000007565.2-PP_0029</td>\n",
       "      <td>GCF_000007565.2</td>\n",
       "    </tr>\n",
       "  </tbody>\n",
       "</table>\n",
       "<p>1917 rows × 10 columns</p>\n",
       "</div>"
      ],
      "text/plain": [
       "        TCStype                 aseq_id  \\\n",
       "0            RR  GMKDLMVzJKukp_WWlfgtyQ   \n",
       "1            RR  LUKvtANh7rvr6FdGbXESNQ   \n",
       "2            RR  HBu_ldCCQHpSqa74w0NUZg   \n",
       "3     Hybrid_HK  lb4OsLpg-Ll0uukqKnXlzA   \n",
       "4            RR  eyZzgHre-dvqB1eEQi9AdQ   \n",
       "...         ...                     ...   \n",
       "4611         HK  vEwNS7GYcG9KfogH_N4H7A   \n",
       "4612         RR  LL7_ZQRZvNWIpNM6VW59YA   \n",
       "4613         RR  ggTWR_WuSmes2mWHd95rig   \n",
       "4614         HK  BoHZ-LqfrwJDgV9bfWfjJQ   \n",
       "4615         RR  8LWkGRDA1AubSuzGYH492g   \n",
       "\n",
       "                                          domain_counts  \\\n",
       "0                                 {'RR': 1, 'LytTR': 1}   \n",
       "1           {'RR': 1, 'HTH_8': 1, 'Sigma54_activat': 1}   \n",
       "2                                  {'RR': 1, 'GerE': 1}   \n",
       "3                                 {'RR': 1, 'HK_CA': 1}   \n",
       "4                           {'RR': 1, 'Trans_reg_C': 1}   \n",
       "...                                                 ...   \n",
       "4611  {'PAS': 1, 'HAMP': 1, 'HK_CA': 1, 'KinB_sensor...   \n",
       "4612                        {'RR': 1, 'Trans_reg_C': 1}   \n",
       "4613                                          {'RR': 1}   \n",
       "4614                                       {'HK_CA': 1}   \n",
       "4615                        {'RR': 1, 'Trans_reg_C': 1}   \n",
       "\n",
       "                                             domain_seq  env_from  env_to  \\\n",
       "0     ILVDDEPLAIQGLELRLQEHEDVEIIDKCSNGREAIRAIKTHKPDL...         5     114   \n",
       "1     LIVEDDAGLQRQLRWAYEGYQIHSATDRDEAIALVRAEEPQVVTLD...         7     120   \n",
       "2     LTVDDHAMVRDGVTALLARQPDMEAVGEAADGKEAIAQFRALAPDI...        12     124   \n",
       "3     LGQLTGGVAHDFNNLLTPITGALDLLQNKYASIDPRSGRLIANALL...       154     382   \n",
       "4     LIVEDEPNLGQQLRNALEGAGYAVDLATDGEEGHFLGSTEQYDAIL...         3     113   \n",
       "...                                                 ...       ...     ...   \n",
       "4611  RSEFVLRASHELRTPVTGMHMAFGLLRERVKFPPEARENDLLETIG...       373     593   \n",
       "4612  LVIEDEVKTAEYVRQGLTECGYVVDCVHTGSDGLFLAKQHEYELII...         3     113   \n",
       "4613  LVVDDNAVNREALILYLKSRGIDAVGADGAEEARLYLHYQKRIGLM...        71     183   \n",
       "4614  LSQFSDDLAHELRAPLSNLMGKAQVALTRERSLSEYREVLESCTEE...       241     463   \n",
       "4615  LVVEDEIKTAEYLQQGLSESGYVVDIVHNGVDALHLFNTNVYSLVL...         3     112   \n",
       "\n",
       "       gene_id                                           sequence  \\\n",
       "0     20484531  MTIRTILVDDEPLAIQGLELRLQEHEDVEIIDKCSNGREAIRAIKT...   \n",
       "1     20484138  MTAVRKLLIVEDDAGLQRQLRWAYEGYQIHSATDRDEAIALVRAEE...   \n",
       "2     20484587  MAEDSERTPIRVLTVDDHAMVRDGVTALLARQPDMEAVGEAADGKE...   \n",
       "3     20484584  MLQEARLHCTIAADLEALTKHVDQGAGFALATEEALTGPGLATLQR...   \n",
       "4     20484131  MRLLIVEDEPNLGQQLRNALEGAGYAVDLATDGEEGHFLGSTEQYD...   \n",
       "...        ...                                                ...   \n",
       "4611   1098212  MKWPPMKLRTRLFLSISTLVTVALLGLLLGLVSMLQMATVQQRLVR...   \n",
       "4612   1098122  MRILVIEDEVKTAEYVRQGLTECGYVVDCVHTGSDGLFLAKQHEYE...   \n",
       "4613   1098463  MVPIGRKSMSALVKDPTKGETGYASNAVLMLKRNFFDEMSMPEHTD...   \n",
       "4614   1098106  MRPFSLAAKLGLKVGLMSAALLLLFATFGYLMVGKALERNARADLE...   \n",
       "4615   1098105  MRVLVVEDEIKTAEYLQQGLSESGYVVDIVHNGVDALHLFNTNVYS...   \n",
       "\n",
       "                         stable_id          version  \n",
       "0     GCF_000935025.1-TS85_RS23315  GCF_000935025.1  \n",
       "1     GCF_000935025.1-TS85_RS21370  GCF_000935025.1  \n",
       "2     GCF_000935025.1-TS85_RS23590  GCF_000935025.1  \n",
       "3     GCF_000935025.1-TS85_RS23575  GCF_000935025.1  \n",
       "4     GCF_000935025.1-TS85_RS21335  GCF_000935025.1  \n",
       "...                            ...              ...  \n",
       "4611       GCF_000007565.2-PP_0132  GCF_000007565.2  \n",
       "4612       GCF_000007565.2-PP_0047  GCF_000007565.2  \n",
       "4613       GCF_000007565.2-PP_0355  GCF_000007565.2  \n",
       "4614       GCF_000007565.2-PP_0030  GCF_000007565.2  \n",
       "4615       GCF_000007565.2-PP_0029  GCF_000007565.2  \n",
       "\n",
       "[1917 rows x 10 columns]"
      ]
     },
     "execution_count": 82,
     "metadata": {},
     "output_type": "execute_result"
    }
   ],
   "source": [
    "Align(dfPP_Sphing, DBname = \"Sphingomonas_PP\" , TCStypes = [\"RR\"], iteration = iteration)"
   ]
  },
  {
   "cell_type": "code",
   "execution_count": 156,
   "metadata": {},
   "outputs": [
    {
     "name": "stdout",
     "output_type": "stream",
     "text": [
      "Rhodobacterales     5\n",
      "Rhizobiales         4\n",
      "Rickettsiales       3\n",
      "Rhodospirillales    2\n",
      "Caulobacterales     1\n",
      "Holosporales        1\n",
      "Kiloniellales       1\n",
      "Kordiimonadales     1\n",
      "Magnetococcales     1\n",
      "Parvularculales     1\n",
      "Pseudomonadales     1\n",
      "Sneathiellales      1\n",
      "Sphingomonadales    1\n",
      "Name: order, dtype: int64\n",
      "RR           721\n",
      "HK           378\n",
      "Hybrid_HK    244\n",
      "Name: TCStype, dtype: int64\n",
      "GCF_002109495.1    151\n",
      "GCF_000007565.2    129\n",
      "GCF_000374005.1     95\n",
      "GCF_000385335.1     88\n",
      "GCF_000169415.1     81\n",
      "GCF_000616095.1     76\n",
      "GCF_000017565.1     75\n",
      "GCF_001687365.1     74\n",
      "GCF_000375545.1     72\n",
      "GCF_000421265.1     72\n",
      "GCF_002208825.2     71\n",
      "GCF_900168195.1     70\n",
      "GCF_900110775.1     53\n",
      "GCF_900199215.1     44\n",
      "GCF_000423645.1     43\n",
      "GCF_001870665.2     41\n",
      "GCF_000021325.1     37\n",
      "GCF_000442315.1     27\n",
      "GCF_000420765.1     19\n",
      "GCF_000063545.1      8\n",
      "GCF_000007025.1      7\n",
      "GCF_000469665.2      6\n",
      "GCF_001752665.1      4\n",
      "Name: version, dtype: int64\n"
     ]
    }
   ],
   "source": [
    "iteration= 4\n",
    "Alphaproteobacteria = Bacteria[Bacteria[\"class\"] ==  \"Alphaproteobacteria\"]\n",
    "\n",
    "AlphaproteobacteriaSubset = Alphaproteobacteria.drop_duplicates(subset = [\"genus\"])\n",
    "randomSubsetOrder = randomSubset(df = AlphaproteobacteriaSubset, groupby = \"order\", frac = .05, second_frac=0.25, add_PP = True)\n",
    "print(randomSubsetOrder[\"order\"].value_counts())\n",
    "DB = randomSubsetOrder\n",
    "DBname = \"Alphaproteobacteria\"\n",
    "\n",
    "df = TCSdomains(DB = randomSubsetOrder)  \n",
    "\n",
    "Alphaproteobacteria.to_csv(os.path.join(Genomespath, f\"{DBname}DB.csv\"), index = False)\n",
    "df.to_csv(os.path.join(SampledTCSpath, f\"TCSPlaygound_{DBname}DB_{iteration}.csv\"), index = False)\n",
    "DB.to_csv(os.path.join(SampledGenomespath, f\"Sampled{DBname}DB_{iteration}.csv\"), index = False)"
   ]
  },
  {
   "cell_type": "code",
   "execution_count": 158,
   "metadata": {},
   "outputs": [],
   "source": [
    "Databases = DBs + [f\"{DB}_PP\" for DB in DBs]\n",
    "for DB in Databases:\n",
    "    df = pd.read_csv(os.path.join(SampledTCSpath, f\"TCSPlaygound_{DB}DB_{iteration}.csv\"))\n",
    "\n",
    "    Align(df, DBname = DB , TCStypes = [\"RR\"], iteration = iteration)"
   ]
  },
  {
   "cell_type": "code",
   "execution_count": null,
   "metadata": {},
   "outputs": [],
   "source": []
  }
 ],
 "metadata": {
  "kernelspec": {
   "display_name": "Biopython 3.8",
   "language": "python",
   "name": "biopython_3.8"
  },
  "language_info": {
   "codemirror_mode": {
    "name": "ipython",
    "version": 3
   },
   "file_extension": ".py",
   "mimetype": "text/x-python",
   "name": "python",
   "nbconvert_exporter": "python",
   "pygments_lexer": "ipython3",
   "version": "3.8.6"
  }
 },
 "nbformat": 4,
 "nbformat_minor": 4
}
